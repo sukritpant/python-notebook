{
 "cells": [
  {
   "cell_type": "markdown",
   "metadata": {},
   "source": [
    "Numerical Calculation with Jackpot Draw and Pricing"
   ]
  },
  {
   "cell_type": "code",
   "execution_count": null,
   "metadata": {},
   "outputs": [],
   "source": [
    "import numpy as np"
   ]
  },
  {
   "cell_type": "code",
   "execution_count": null,
   "metadata": {},
   "outputs": [],
   "source": [
    "import matplotlib.pyplot as plt"
   ]
  },
  {
   "attachments": {
    "eurojackpot.svg": {
     "image/svg+xml": [
      "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"
     ]
    }
   },
   "cell_type": "markdown",
   "metadata": {},
   "source": [
    "# Question 1. <code>euro_jackpot()</code>\n",
    "\n",
    "EuroJackpot prizes are amongst the largest in Europe, second only to EuroMillions in terms of the total money paid out. In EuroJackpot, you simply select **five** regular numbers from 1 to 50 and then **two** additional Euro numbers from 1 to 10. You will try to predict as many numbers as possible and will win the jackpot if you get all seven correctly.\n",
    "\n",
    "![eurojackpot.svg](attachment:eurojackpot.svg)\n",
    "\n",
    "For more information about EuroJackpot, please click [here](https://www.eurojackpot.org/en/bet-on-eurojackpot/). \n",
    "\n",
    "Please write a function <code>euro_jackpot()</code>, which generates a random selection of seven numbers for a EuroJackpot ticket. Among the seven numbers to be generated:\n",
    " - The first five numbers (*i.e.*, regular numbers) are randomly selected from 1 to 50 (both inclusive), and do not contain any duplicates.\n",
    " - The other two numbers (*i.e.*, Euro numbers) are randomly selected from 1 to 10 (both inclusive), and do not contain any duplicates.\n",
    "\n",
    "Note that the two Euro numbers are drawn from a separate ball machine, so it is possible to have the same number as both a regular number and a Euro number. Your function should first **print** the five regular numbers in ascending order, and then the two Euro numbers in ascending order."
   ]
  },
  {
   "cell_type": "code",
   "execution_count": null,
   "metadata": {},
   "outputs": [],
   "source": [
    "## Your function starts from here:\n",
    "\n",
    "def euro_jackpot ():\n",
    "    initial = np.random.randint (1, 51, 5)\n",
    "    special = np.random.randint (1,51, 2)\n",
    "\n",
    "    while np.unique(initial).shape[0] !=5:\n",
    "        initial = np.random.randint (1, 51, 5)\n",
    "\n",
    "    while np.unique(special).shape[0] !=2:\n",
    "        special = np.random.randint (1, 51, 2)\n",
    "    \n",
    "    print (np.sort (initial), np.sort(special))\n"
   ]
  },
  {
   "cell_type": "code",
   "execution_count": null,
   "metadata": {
    "scrolled": false
   },
   "outputs": [],
   "source": [
    "## Test your function for a few times. Note that it should generate different numbers in each call.\n",
    "\n",
    "for i in range(5):\n",
    "    euro_jackpot()"
   ]
  },
  {
   "cell_type": "markdown",
   "metadata": {},
   "source": [
    "# Question 2.\n",
    "\n",
    "Four customers visited a chocolate store, each of which bought chocolates out of three brands (A, B and C):\n",
    " - Lucas bought 100 grams of brand A, 175 grams of brand B and 210 grams of brand C.\n",
    " - Elina bought 90 grams of A, 160 grams of B and 150 grams of C.\n",
    " - Veera bought 200 grams of A, 50 grams of B and 100 grams of C.\n",
    " - Mia bought 120 grams of A and 310 grams of C.\n",
    " \n",
    "The price for each brand is as follows:\n",
    " - A costs €2.98 per 100 grams\n",
    " - B costs €3.90 per 100 grams\n",
    " - C costs €1.99 per 100 grams\n",
    "\n",
    "Please complete the following tasks:\n",
    " - First, please calculate how much each person had to pay.\n",
    " - Next, please exhibit the amounts you've just calculated with a bar plot.\n",
    "\n",
    "NOTE: You can **only** use element-wise operations and universal functions from <code>NumPy</code> in your calculations, and you are **not** allowed to use any loops (e.g. <code>for</code> or <code>while</code>)."
   ]
  },
  {
   "cell_type": "code",
   "execution_count": null,
   "metadata": {},
   "outputs": [],
   "source": [
    "## Your program starts from here:\n",
    "\n",
    "#Buying = np.array ([['Lucas', 100, 175, 210],['Elina', 90, 160, 150],['Veera', 200, 50, 100],['Mia', 120, 0, 310]])\n",
    "Buying = np.array ([[100, 175, 210],[90, 160, 150],[200, 50, 100],[120, 0, 310]])\n",
    "name = np.array ([\"Lucas\", \"Elina\", \"Veera\",\"Mia\"])\n",
    "Pricing100g = np.array([2.98, 3.90, 1.99])\n",
    "Pricing1g = Pricing100g/100\n",
    "pay = np.sum(Buying*Pricing1g, axis=1)\n",
    "print (name)\n",
    "print (pay)\n",
    "\n",
    "plt.bar(name, pay)\n",
    "plt.xlabel ('Payer')\n",
    "plt.ylabel ('Price paid(in Euros)')\n",
    "plt.title ('Amount paid for Chocolate')\n",
    "plt.show ()"
   ]
  },
  {
   "attachments": {
    "TimeSeries100DailyClosingPrices.png": {
     "image/png": "[encoded data removed]"
    }
   },
   "cell_type": "markdown",
   "metadata": {},
   "source": [
    "# Question 3.\n",
    "\n",
    "The closing prices for 100 consecutive trading days for a particular stock are given as follows:\n",
    "\n",
    "    price = [77.0782, 70.7692, 73.3505, 68.6033, 68.6321, 65.5834, \n",
    "             63.9137, 63.9224, 59.1316, 57.3080, 56.8161, 54.2992, \n",
    "             55.9759, 53.9217, 48.6715, 45.7877, 46.2155, 41.9000, \n",
    "             38.4206, 39.5007, 37.2547, 35.7330, 33.5357, 28.1770, \n",
    "             32.4655, 35.2633, 35.8763, 36.7587, 35.1836, 37.2151, \n",
    "             35.0473, 37.6049, 41.5026, 44.3063, 45.1209, 49.9941, \n",
    "             47.5366, 44.1048, 48.4192, 50.6432, 50.9571, 52.6670, \n",
    "             53.7452, 55.3259, 56.0779, 54.5044, 57.6703, 62.1648, \n",
    "             61.9237, 60.0800, 60.9850, 66.1175, 68.5949, 72.3522, \n",
    "             72.4252, 72.2571, 72.3188, 73.2215, 77.7766, 74.5345, \n",
    "             76.2885, 71.1488, 69.7948, 73.3775, 71.2516, 69.5023, \n",
    "             71.8772, 67.6134, 68.0548, 65.8179, 65.3941, 65.5281, \n",
    "             67.0112, 65.6294, 64.7371, 63.6171, 63.2455, 60.4415, \n",
    "             61.9082, 63.3986, 58.5286, 63.2828, 62.6528, 61.3553, \n",
    "             57.9832, 56.0021, 57.5180, 57.9495, 57.3952, 54.5280, \n",
    "             56.8438, 51.3766, 53.6321, 55.2540, 49.0425, 52.8425, \n",
    "             50.0387, 49.4618, 51.5674, 52.3541] \n",
    "             \n",
    "Please note that the minimum and maximum closing prices were observed on the 24th day and the 59th day, respectively.\n",
    "\n",
    "Please create a time-series plot for these daily closing prices. Please also highlight the minimum and maximum closing prices with a green circle and a red circle, respectively. The plot should look like this:\n",
    "\n",
    "![TimeSeries100DailyClosingPrices.png](attachment:TimeSeries100DailyClosingPrices.png)"
   ]
  },
  {
   "cell_type": "code",
   "execution_count": null,
   "metadata": {},
   "outputs": [],
   "source": [
    "## Your program starts from here:\n",
    "\n",
    "price = np.array([77.0782, 70.7692, 73.3505, 68.6033, 68.6321, 65.5834, \n",
    "             63.9137, 63.9224, 59.1316, 57.3080, 56.8161, 54.2992, \n",
    "             55.9759, 53.9217, 48.6715, 45.7877, 46.2155, 41.9000, \n",
    "             38.4206, 39.5007, 37.2547, 35.7330, 33.5357, 28.1770, \n",
    "             32.4655, 35.2633, 35.8763, 36.7587, 35.1836, 37.2151, \n",
    "             35.0473, 37.6049, 41.5026, 44.3063, 45.1209, 49.9941, \n",
    "             47.5366, 44.1048, 48.4192, 50.6432, 50.9571, 52.6670, \n",
    "             53.7452, 55.3259, 56.0779, 54.5044, 57.6703, 62.1648, \n",
    "             61.9237, 60.0800, 60.9850, 66.1175, 68.5949, 72.3522, \n",
    "             72.4252, 72.2571, 72.3188, 73.2215, 77.7766, 74.5345, \n",
    "             76.2885, 71.1488, 69.7948, 73.3775, 71.2516, 69.5023, \n",
    "             71.8772, 67.6134, 68.0548, 65.8179, 65.3941, 65.5281, \n",
    "             67.0112, 65.6294, 64.7371, 63.6171, 63.2455, 60.4415, \n",
    "             61.9082, 63.3986, 58.5286, 63.2828, 62.6528, 61.3553, \n",
    "             57.9832, 56.0021, 57.5180, 57.9495, 57.3952, 54.5280, \n",
    "             56.8438, 51.3766, 53.6321, 55.2540, 49.0425, 52.8425, \n",
    "             50.0387, 49.4618, 51.5674, 52.3541])\n",
    "plt.plot(price)\n",
    "maximum = np.where(price==np.amax(price))\n",
    "plt.scatter (maximum[0][0],np.amax(price), color='r')\n",
    "minimum = np.where(price==np.amin(price))\n",
    "plt.scatter (minimum[0][0], np.amin(price), color='g')\n",
    "plt.xlabel ('Time')\n",
    "plt.ylabel ('Price')\n",
    "plt.title ('Daily Closing Price')\n",
    "plt.show()\n",
    "\n"
   ]
  }
 ],
 "metadata": {
  "kernelspec": {
   "display_name": "Python 3 (ipykernel)",
   "language": "python",
   "name": "python3"
  },
  "language_info": {
   "codemirror_mode": {
    "name": "ipython",
    "version": 3
   },
   "file_extension": ".py",
   "mimetype": "text/x-python",
   "name": "python",
   "nbconvert_exporter": "python",
   "pygments_lexer": "ipython3",
   "version": "3.9.7"
  }
 },
 "nbformat": 4,
 "nbformat_minor": 4
}
