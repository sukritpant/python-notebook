{
 "cells": [
  {
   "cell_type": "markdown",
   "metadata": {},
   "source": [
    "Exploratory Analysis"
   ]
  },
  {
   "cell_type": "markdown",
   "metadata": {},
   "source": [
    "Question 1"
   ]
  },
  {
   "cell_type": "code",
   "execution_count": 1,
   "metadata": {},
   "outputs": [],
   "source": [
    "import numpy as np\n",
    "import pandas as pd"
   ]
  },
  {
   "cell_type": "code",
   "execution_count": 2,
   "metadata": {},
   "outputs": [
    {
     "data": {
      "text/html": [
       "<div>\n",
       "<style scoped>\n",
       "    .dataframe tbody tr th:only-of-type {\n",
       "        vertical-align: middle;\n",
       "    }\n",
       "\n",
       "    .dataframe tbody tr th {\n",
       "        vertical-align: top;\n",
       "    }\n",
       "\n",
       "    .dataframe thead th {\n",
       "        text-align: right;\n",
       "    }\n",
       "</style>\n",
       "<table border=\"1\" class=\"dataframe\">\n",
       "  <thead>\n",
       "    <tr style=\"text-align: right;\">\n",
       "      <th></th>\n",
       "      <th>gender</th>\n",
       "      <th>parental_education</th>\n",
       "      <th>test_prep_course</th>\n",
       "      <th>math_score</th>\n",
       "      <th>reading_score</th>\n",
       "      <th>writing_score</th>\n",
       "    </tr>\n",
       "  </thead>\n",
       "  <tbody>\n",
       "    <tr>\n",
       "      <th>0</th>\n",
       "      <td>female</td>\n",
       "      <td>bachelor's degree</td>\n",
       "      <td>none</td>\n",
       "      <td>72</td>\n",
       "      <td>72</td>\n",
       "      <td>74</td>\n",
       "    </tr>\n",
       "    <tr>\n",
       "      <th>1</th>\n",
       "      <td>female</td>\n",
       "      <td>some college</td>\n",
       "      <td>completed</td>\n",
       "      <td>69</td>\n",
       "      <td>90</td>\n",
       "      <td>88</td>\n",
       "    </tr>\n",
       "    <tr>\n",
       "      <th>2</th>\n",
       "      <td>female</td>\n",
       "      <td>master's degree</td>\n",
       "      <td>none</td>\n",
       "      <td>90</td>\n",
       "      <td>95</td>\n",
       "      <td>93</td>\n",
       "    </tr>\n",
       "    <tr>\n",
       "      <th>3</th>\n",
       "      <td>male</td>\n",
       "      <td>associate's degree</td>\n",
       "      <td>none</td>\n",
       "      <td>47</td>\n",
       "      <td>57</td>\n",
       "      <td>44</td>\n",
       "    </tr>\n",
       "    <tr>\n",
       "      <th>4</th>\n",
       "      <td>male</td>\n",
       "      <td>some college</td>\n",
       "      <td>none</td>\n",
       "      <td>76</td>\n",
       "      <td>78</td>\n",
       "      <td>75</td>\n",
       "    </tr>\n",
       "  </tbody>\n",
       "</table>\n",
       "</div>"
      ],
      "text/plain": [
       "   gender  parental_education test_prep_course  math_score  reading_score  \\\n",
       "0  female   bachelor's degree             none          72             72   \n",
       "1  female        some college        completed          69             90   \n",
       "2  female     master's degree             none          90             95   \n",
       "3    male  associate's degree             none          47             57   \n",
       "4    male        some college             none          76             78   \n",
       "\n",
       "   writing_score  \n",
       "0             74  \n",
       "1             88  \n",
       "2             93  \n",
       "3             44  \n",
       "4             75  "
      ]
     },
     "execution_count": 2,
     "metadata": {},
     "output_type": "execute_result"
    }
   ],
   "source": [
    "data1 = pd.read_csv('students.csv')\n",
    "\n",
    "data1.head()"
   ]
  },
  {
   "cell_type": "code",
   "execution_count": 3,
   "metadata": {},
   "outputs": [
    {
     "name": "stdout",
     "output_type": "stream",
     "text": [
      "female    518\n",
      "male      482\n",
      "Name: gender, dtype: int64\n"
     ]
    }
   ],
   "source": [
    "print (data1.gender.value_counts())\n",
    "\n",
    "#From the data below, we can see that there are more female in the dataset"
   ]
  },
  {
   "cell_type": "markdown",
   "metadata": {},
   "source": [
    "From the above count, we can see that there are more female compared to male in the dataset."
   ]
  },
  {
   "cell_type": "code",
   "execution_count": 4,
   "metadata": {},
   "outputs": [
    {
     "name": "stdout",
     "output_type": "stream",
     "text": [
      "The student's performed best overall in  reading_score  with 69.169\n"
     ]
    }
   ],
   "source": [
    "store = data1.mean(numeric_only=True)\n",
    "max_index = store.idxmax()\n",
    "max_score = store.max()\n",
    "\n",
    "print (\"The student's performed best overall in \", max_index, ' with', max_score)\n",
    "\n"
   ]
  },
  {
   "cell_type": "code",
   "execution_count": 5,
   "metadata": {},
   "outputs": [
    {
     "name": "stdout",
     "output_type": "stream",
     "text": [
      "3 students scored perfect in all three subjects\n"
     ]
    }
   ],
   "source": [
    "perfect_in_all = sum(data1.sum(axis=1, numeric_only=True)==300)\n",
    "\n",
    "print (perfect_in_all, 'students scored perfect in all three subjects')"
   ]
  },
  {
   "cell_type": "code",
   "execution_count": 6,
   "metadata": {},
   "outputs": [
    {
     "name": "stderr",
     "output_type": "stream",
     "text": [
      "/var/folders/0q/7yfv43d952dbrjwdnvllyvq40000gn/T/ipykernel_21811/734134633.py:5: FutureWarning: Dropping of nuisance columns in DataFrame reductions (with 'numeric_only=None') is deprecated; in a future version this will raise TypeError.  Select only valid columns before calling the reduction.\n",
      "  completed_course = test_prep[(test_prep[\"test_prep_course\"]=='completed')].mean()\n"
     ]
    }
   ],
   "source": [
    "test_prep = data1.iloc[:,2:6]\n",
    "\n",
    "test_prep\n",
    "\n",
    "completed_course = test_prep[(test_prep[\"test_prep_course\"]=='completed')].mean()"
   ]
  },
  {
   "cell_type": "code",
   "execution_count": 7,
   "metadata": {},
   "outputs": [
    {
     "name": "stderr",
     "output_type": "stream",
     "text": [
      "/var/folders/0q/7yfv43d952dbrjwdnvllyvq40000gn/T/ipykernel_21811/3583932088.py:1: FutureWarning: Dropping of nuisance columns in DataFrame reductions (with 'numeric_only=None') is deprecated; in a future version this will raise TypeError.  Select only valid columns before calling the reduction.\n",
      "  none_course = test_prep[(test_prep[\"test_prep_course\"]=='none')].mean()\n"
     ]
    }
   ],
   "source": [
    "none_course = test_prep[(test_prep[\"test_prep_course\"]=='none')].mean()"
   ]
  },
  {
   "cell_type": "markdown",
   "metadata": {},
   "source": [
    "From the averages above, we can see that students who have taken test preparation have better marks with 5 score more in math, 7 score more in reading and 10 score more in writing"
   ]
  },
  {
   "cell_type": "markdown",
   "metadata": {},
   "source": [
    "Question 2"
   ]
  },
  {
   "cell_type": "code",
   "execution_count": 8,
   "metadata": {},
   "outputs": [
    {
     "data": {
      "text/html": [
       "<div>\n",
       "<style scoped>\n",
       "    .dataframe tbody tr th:only-of-type {\n",
       "        vertical-align: middle;\n",
       "    }\n",
       "\n",
       "    .dataframe tbody tr th {\n",
       "        vertical-align: top;\n",
       "    }\n",
       "\n",
       "    .dataframe thead th {\n",
       "        text-align: right;\n",
       "    }\n",
       "</style>\n",
       "<table border=\"1\" class=\"dataframe\">\n",
       "  <thead>\n",
       "    <tr style=\"text-align: right;\">\n",
       "      <th></th>\n",
       "      <th>experience_years</th>\n",
       "      <th>age</th>\n",
       "      <th>salary</th>\n",
       "    </tr>\n",
       "  </thead>\n",
       "  <tbody>\n",
       "    <tr>\n",
       "      <th>0</th>\n",
       "      <td>1.1</td>\n",
       "      <td>NaN</td>\n",
       "      <td>39343</td>\n",
       "    </tr>\n",
       "    <tr>\n",
       "      <th>1</th>\n",
       "      <td>1.3</td>\n",
       "      <td>24.0</td>\n",
       "      <td>46205</td>\n",
       "    </tr>\n",
       "    <tr>\n",
       "      <th>2</th>\n",
       "      <td>1.5</td>\n",
       "      <td>28.7</td>\n",
       "      <td>37731</td>\n",
       "    </tr>\n",
       "    <tr>\n",
       "      <th>3</th>\n",
       "      <td>NaN</td>\n",
       "      <td>31.0</td>\n",
       "      <td>43525</td>\n",
       "    </tr>\n",
       "    <tr>\n",
       "      <th>4</th>\n",
       "      <td>2.2</td>\n",
       "      <td>NaN</td>\n",
       "      <td>39891</td>\n",
       "    </tr>\n",
       "  </tbody>\n",
       "</table>\n",
       "</div>"
      ],
      "text/plain": [
       "   experience_years   age  salary\n",
       "0               1.1   NaN   39343\n",
       "1               1.3  24.0   46205\n",
       "2               1.5  28.7   37731\n",
       "3               NaN  31.0   43525\n",
       "4               2.2   NaN   39891"
      ]
     },
     "execution_count": 8,
     "metadata": {},
     "output_type": "execute_result"
    }
   ],
   "source": [
    "data2 = pd.read_csv('salary.csv')\n",
    "\n",
    "data2.head()"
   ]
  },
  {
   "cell_type": "code",
   "execution_count": 9,
   "metadata": {},
   "outputs": [
    {
     "data": {
      "text/html": [
       "<div>\n",
       "<style scoped>\n",
       "    .dataframe tbody tr th:only-of-type {\n",
       "        vertical-align: middle;\n",
       "    }\n",
       "\n",
       "    .dataframe tbody tr th {\n",
       "        vertical-align: top;\n",
       "    }\n",
       "\n",
       "    .dataframe thead th {\n",
       "        text-align: right;\n",
       "    }\n",
       "</style>\n",
       "<table border=\"1\" class=\"dataframe\">\n",
       "  <thead>\n",
       "    <tr style=\"text-align: right;\">\n",
       "      <th></th>\n",
       "      <th>experience_years</th>\n",
       "      <th>age</th>\n",
       "      <th>salary</th>\n",
       "      <th>filled_exp</th>\n",
       "      <th>filled_age</th>\n",
       "    </tr>\n",
       "  </thead>\n",
       "  <tbody>\n",
       "    <tr>\n",
       "      <th>0</th>\n",
       "      <td>1.1</td>\n",
       "      <td>NaN</td>\n",
       "      <td>39343</td>\n",
       "      <td>1.1</td>\n",
       "      <td>31.216</td>\n",
       "    </tr>\n",
       "    <tr>\n",
       "      <th>1</th>\n",
       "      <td>1.3</td>\n",
       "      <td>24.0</td>\n",
       "      <td>46205</td>\n",
       "      <td>1.3</td>\n",
       "      <td>24.000</td>\n",
       "    </tr>\n",
       "    <tr>\n",
       "      <th>2</th>\n",
       "      <td>1.5</td>\n",
       "      <td>28.7</td>\n",
       "      <td>37731</td>\n",
       "      <td>1.5</td>\n",
       "      <td>28.700</td>\n",
       "    </tr>\n",
       "    <tr>\n",
       "      <th>3</th>\n",
       "      <td>NaN</td>\n",
       "      <td>31.0</td>\n",
       "      <td>43525</td>\n",
       "      <td>3.0</td>\n",
       "      <td>31.000</td>\n",
       "    </tr>\n",
       "    <tr>\n",
       "      <th>4</th>\n",
       "      <td>2.2</td>\n",
       "      <td>NaN</td>\n",
       "      <td>39891</td>\n",
       "      <td>2.2</td>\n",
       "      <td>31.216</td>\n",
       "    </tr>\n",
       "  </tbody>\n",
       "</table>\n",
       "</div>"
      ],
      "text/plain": [
       "   experience_years   age  salary  filled_exp  filled_age\n",
       "0               1.1   NaN   39343         1.1      31.216\n",
       "1               1.3  24.0   46205         1.3      24.000\n",
       "2               1.5  28.7   37731         1.5      28.700\n",
       "3               NaN  31.0   43525         3.0      31.000\n",
       "4               2.2   NaN   39891         2.2      31.216"
      ]
     },
     "execution_count": 9,
     "metadata": {},
     "output_type": "execute_result"
    }
   ],
   "source": [
    "exp_fill = data2.experience_years.fillna(3)\n",
    "\n",
    "data_ex = pd.concat([data2, exp_fill.rename('filled_exp')], axis=1)\n",
    "\n",
    "data_ex\n",
    "\n",
    "age_fill = data2.age.fillna(data2.age.mean())\n",
    "\n",
    "data_age = pd.concat ([data_ex, age_fill.rename('filled_age')], axis=1)\n",
    "\n",
    "data_age.head()"
   ]
  },
  {
   "cell_type": "markdown",
   "metadata": {},
   "source": [
    "data_ex is creating where we fill NaN value in experience year with 3 years while age_fill has added the mean of all the ages to the NaN value in ages column. I have added these corrected dataset in new column."
   ]
  },
  {
   "cell_type": "code",
   "execution_count": 10,
   "metadata": {},
   "outputs": [
    {
     "name": "stdout",
     "output_type": "stream",
     "text": [
      "The correlation of age and salary is  0.5196367214292624\n"
     ]
    }
   ],
   "source": [
    "age_salary = data_age['filled_age'].corr(data_age['salary'])\n",
    "\n",
    "print ('The correlation of age and salary is ', age_salary)"
   ]
  },
  {
   "cell_type": "code",
   "execution_count": 11,
   "metadata": {},
   "outputs": [
    {
     "name": "stdout",
     "output_type": "stream",
     "text": [
      "The correlation between experience and salary is  0.8346030993050743\n"
     ]
    }
   ],
   "source": [
    "exp_salary = data_age['filled_exp'].corr(data_age['salary'])\n",
    "\n",
    "print ('The correlation between experience and salary is ', exp_salary)"
   ]
  },
  {
   "cell_type": "markdown",
   "metadata": {},
   "source": [
    "From the above two correlation, we can say that while age and salary are positively correlated and where half of the older people are likely to have better salary, experience has a stronger relationship where with increase in experience salary increase can be seen 83% of the times."
   ]
  },
  {
   "cell_type": "code",
   "execution_count": 12,
   "metadata": {},
   "outputs": [
    {
     "data": {
      "text/html": [
       "<div>\n",
       "<style scoped>\n",
       "    .dataframe tbody tr th:only-of-type {\n",
       "        vertical-align: middle;\n",
       "    }\n",
       "\n",
       "    .dataframe tbody tr th {\n",
       "        vertical-align: top;\n",
       "    }\n",
       "\n",
       "    .dataframe thead th {\n",
       "        text-align: right;\n",
       "    }\n",
       "</style>\n",
       "<table border=\"1\" class=\"dataframe\">\n",
       "  <thead>\n",
       "    <tr style=\"text-align: right;\">\n",
       "      <th></th>\n",
       "      <th>experience_years</th>\n",
       "      <th>age</th>\n",
       "      <th>salary</th>\n",
       "      <th>filled_exp</th>\n",
       "      <th>filled_age</th>\n",
       "      <th>band</th>\n",
       "    </tr>\n",
       "  </thead>\n",
       "  <tbody>\n",
       "    <tr>\n",
       "      <th>0</th>\n",
       "      <td>1.1</td>\n",
       "      <td>NaN</td>\n",
       "      <td>39343</td>\n",
       "      <td>1.1</td>\n",
       "      <td>31.216</td>\n",
       "      <td>Low</td>\n",
       "    </tr>\n",
       "    <tr>\n",
       "      <th>1</th>\n",
       "      <td>1.3</td>\n",
       "      <td>24.0</td>\n",
       "      <td>46205</td>\n",
       "      <td>1.3</td>\n",
       "      <td>24.000</td>\n",
       "      <td>Low</td>\n",
       "    </tr>\n",
       "    <tr>\n",
       "      <th>2</th>\n",
       "      <td>1.5</td>\n",
       "      <td>28.7</td>\n",
       "      <td>37731</td>\n",
       "      <td>1.5</td>\n",
       "      <td>28.700</td>\n",
       "      <td>Low</td>\n",
       "    </tr>\n",
       "    <tr>\n",
       "      <th>3</th>\n",
       "      <td>NaN</td>\n",
       "      <td>31.0</td>\n",
       "      <td>43525</td>\n",
       "      <td>3.0</td>\n",
       "      <td>31.000</td>\n",
       "      <td>Low</td>\n",
       "    </tr>\n",
       "    <tr>\n",
       "      <th>4</th>\n",
       "      <td>2.2</td>\n",
       "      <td>NaN</td>\n",
       "      <td>39891</td>\n",
       "      <td>2.2</td>\n",
       "      <td>31.216</td>\n",
       "      <td>Low</td>\n",
       "    </tr>\n",
       "    <tr>\n",
       "      <th>5</th>\n",
       "      <td>2.9</td>\n",
       "      <td>33.0</td>\n",
       "      <td>56642</td>\n",
       "      <td>2.9</td>\n",
       "      <td>33.000</td>\n",
       "      <td>Medium</td>\n",
       "    </tr>\n",
       "    <tr>\n",
       "      <th>6</th>\n",
       "      <td>3.0</td>\n",
       "      <td>NaN</td>\n",
       "      <td>60150</td>\n",
       "      <td>3.0</td>\n",
       "      <td>31.216</td>\n",
       "      <td>Medium</td>\n",
       "    </tr>\n",
       "    <tr>\n",
       "      <th>7</th>\n",
       "      <td>3.2</td>\n",
       "      <td>34.5</td>\n",
       "      <td>54445</td>\n",
       "      <td>3.2</td>\n",
       "      <td>34.500</td>\n",
       "      <td>Low</td>\n",
       "    </tr>\n",
       "    <tr>\n",
       "      <th>8</th>\n",
       "      <td>NaN</td>\n",
       "      <td>28.3</td>\n",
       "      <td>64445</td>\n",
       "      <td>3.0</td>\n",
       "      <td>28.300</td>\n",
       "      <td>Medium</td>\n",
       "    </tr>\n",
       "    <tr>\n",
       "      <th>9</th>\n",
       "      <td>3.7</td>\n",
       "      <td>29.6</td>\n",
       "      <td>57189</td>\n",
       "      <td>3.7</td>\n",
       "      <td>29.600</td>\n",
       "      <td>Medium</td>\n",
       "    </tr>\n",
       "    <tr>\n",
       "      <th>10</th>\n",
       "      <td>3.9</td>\n",
       "      <td>28.9</td>\n",
       "      <td>63218</td>\n",
       "      <td>3.9</td>\n",
       "      <td>28.900</td>\n",
       "      <td>Medium</td>\n",
       "    </tr>\n",
       "    <tr>\n",
       "      <th>11</th>\n",
       "      <td>4.0</td>\n",
       "      <td>34.0</td>\n",
       "      <td>55794</td>\n",
       "      <td>4.0</td>\n",
       "      <td>34.000</td>\n",
       "      <td>Medium</td>\n",
       "    </tr>\n",
       "    <tr>\n",
       "      <th>12</th>\n",
       "      <td>4.0</td>\n",
       "      <td>29.5</td>\n",
       "      <td>56957</td>\n",
       "      <td>4.0</td>\n",
       "      <td>29.500</td>\n",
       "      <td>Medium</td>\n",
       "    </tr>\n",
       "    <tr>\n",
       "      <th>13</th>\n",
       "      <td>4.1</td>\n",
       "      <td>24.8</td>\n",
       "      <td>57081</td>\n",
       "      <td>4.1</td>\n",
       "      <td>24.800</td>\n",
       "      <td>Medium</td>\n",
       "    </tr>\n",
       "    <tr>\n",
       "      <th>14</th>\n",
       "      <td>4.5</td>\n",
       "      <td>35.0</td>\n",
       "      <td>61111</td>\n",
       "      <td>4.5</td>\n",
       "      <td>35.000</td>\n",
       "      <td>Medium</td>\n",
       "    </tr>\n",
       "    <tr>\n",
       "      <th>15</th>\n",
       "      <td>4.9</td>\n",
       "      <td>29.2</td>\n",
       "      <td>67938</td>\n",
       "      <td>4.9</td>\n",
       "      <td>29.200</td>\n",
       "      <td>Medium</td>\n",
       "    </tr>\n",
       "    <tr>\n",
       "      <th>16</th>\n",
       "      <td>NaN</td>\n",
       "      <td>26.0</td>\n",
       "      <td>66029</td>\n",
       "      <td>3.0</td>\n",
       "      <td>26.000</td>\n",
       "      <td>Medium</td>\n",
       "    </tr>\n",
       "    <tr>\n",
       "      <th>17</th>\n",
       "      <td>5.3</td>\n",
       "      <td>NaN</td>\n",
       "      <td>83088</td>\n",
       "      <td>5.3</td>\n",
       "      <td>31.216</td>\n",
       "      <td>Medium</td>\n",
       "    </tr>\n",
       "    <tr>\n",
       "      <th>18</th>\n",
       "      <td>5.9</td>\n",
       "      <td>28.0</td>\n",
       "      <td>81363</td>\n",
       "      <td>5.9</td>\n",
       "      <td>28.000</td>\n",
       "      <td>Medium</td>\n",
       "    </tr>\n",
       "    <tr>\n",
       "      <th>19</th>\n",
       "      <td>6.0</td>\n",
       "      <td>29.3</td>\n",
       "      <td>93940</td>\n",
       "      <td>6.0</td>\n",
       "      <td>29.300</td>\n",
       "      <td>High</td>\n",
       "    </tr>\n",
       "    <tr>\n",
       "      <th>20</th>\n",
       "      <td>6.8</td>\n",
       "      <td>33.2</td>\n",
       "      <td>91738</td>\n",
       "      <td>6.8</td>\n",
       "      <td>33.200</td>\n",
       "      <td>High</td>\n",
       "    </tr>\n",
       "    <tr>\n",
       "      <th>21</th>\n",
       "      <td>7.1</td>\n",
       "      <td>30.0</td>\n",
       "      <td>98273</td>\n",
       "      <td>7.1</td>\n",
       "      <td>30.000</td>\n",
       "      <td>High</td>\n",
       "    </tr>\n",
       "    <tr>\n",
       "      <th>22</th>\n",
       "      <td>NaN</td>\n",
       "      <td>31.4</td>\n",
       "      <td>101302</td>\n",
       "      <td>3.0</td>\n",
       "      <td>31.400</td>\n",
       "      <td>High</td>\n",
       "    </tr>\n",
       "    <tr>\n",
       "      <th>23</th>\n",
       "      <td>8.2</td>\n",
       "      <td>32.0</td>\n",
       "      <td>113812</td>\n",
       "      <td>8.2</td>\n",
       "      <td>32.000</td>\n",
       "      <td>High</td>\n",
       "    </tr>\n",
       "    <tr>\n",
       "      <th>24</th>\n",
       "      <td>8.7</td>\n",
       "      <td>NaN</td>\n",
       "      <td>109431</td>\n",
       "      <td>8.7</td>\n",
       "      <td>31.216</td>\n",
       "      <td>High</td>\n",
       "    </tr>\n",
       "    <tr>\n",
       "      <th>25</th>\n",
       "      <td>9.0</td>\n",
       "      <td>34.0</td>\n",
       "      <td>105582</td>\n",
       "      <td>9.0</td>\n",
       "      <td>34.000</td>\n",
       "      <td>High</td>\n",
       "    </tr>\n",
       "    <tr>\n",
       "      <th>26</th>\n",
       "      <td>NaN</td>\n",
       "      <td>35.0</td>\n",
       "      <td>116969</td>\n",
       "      <td>3.0</td>\n",
       "      <td>35.000</td>\n",
       "      <td>High</td>\n",
       "    </tr>\n",
       "    <tr>\n",
       "      <th>27</th>\n",
       "      <td>9.6</td>\n",
       "      <td>36.0</td>\n",
       "      <td>112635</td>\n",
       "      <td>9.6</td>\n",
       "      <td>36.000</td>\n",
       "      <td>High</td>\n",
       "    </tr>\n",
       "    <tr>\n",
       "      <th>28</th>\n",
       "      <td>10.3</td>\n",
       "      <td>37.0</td>\n",
       "      <td>122391</td>\n",
       "      <td>10.3</td>\n",
       "      <td>37.000</td>\n",
       "      <td>High</td>\n",
       "    </tr>\n",
       "    <tr>\n",
       "      <th>29</th>\n",
       "      <td>10.5</td>\n",
       "      <td>38.0</td>\n",
       "      <td>121872</td>\n",
       "      <td>10.5</td>\n",
       "      <td>38.000</td>\n",
       "      <td>High</td>\n",
       "    </tr>\n",
       "  </tbody>\n",
       "</table>\n",
       "</div>"
      ],
      "text/plain": [
       "    experience_years   age  salary  filled_exp  filled_age    band\n",
       "0                1.1   NaN   39343         1.1      31.216     Low\n",
       "1                1.3  24.0   46205         1.3      24.000     Low\n",
       "2                1.5  28.7   37731         1.5      28.700     Low\n",
       "3                NaN  31.0   43525         3.0      31.000     Low\n",
       "4                2.2   NaN   39891         2.2      31.216     Low\n",
       "5                2.9  33.0   56642         2.9      33.000  Medium\n",
       "6                3.0   NaN   60150         3.0      31.216  Medium\n",
       "7                3.2  34.5   54445         3.2      34.500     Low\n",
       "8                NaN  28.3   64445         3.0      28.300  Medium\n",
       "9                3.7  29.6   57189         3.7      29.600  Medium\n",
       "10               3.9  28.9   63218         3.9      28.900  Medium\n",
       "11               4.0  34.0   55794         4.0      34.000  Medium\n",
       "12               4.0  29.5   56957         4.0      29.500  Medium\n",
       "13               4.1  24.8   57081         4.1      24.800  Medium\n",
       "14               4.5  35.0   61111         4.5      35.000  Medium\n",
       "15               4.9  29.2   67938         4.9      29.200  Medium\n",
       "16               NaN  26.0   66029         3.0      26.000  Medium\n",
       "17               5.3   NaN   83088         5.3      31.216  Medium\n",
       "18               5.9  28.0   81363         5.9      28.000  Medium\n",
       "19               6.0  29.3   93940         6.0      29.300    High\n",
       "20               6.8  33.2   91738         6.8      33.200    High\n",
       "21               7.1  30.0   98273         7.1      30.000    High\n",
       "22               NaN  31.4  101302         3.0      31.400    High\n",
       "23               8.2  32.0  113812         8.2      32.000    High\n",
       "24               8.7   NaN  109431         8.7      31.216    High\n",
       "25               9.0  34.0  105582         9.0      34.000    High\n",
       "26               NaN  35.0  116969         3.0      35.000    High\n",
       "27               9.6  36.0  112635         9.6      36.000    High\n",
       "28              10.3  37.0  122391        10.3      37.000    High\n",
       "29              10.5  38.0  121872        10.5      38.000    High"
      ]
     },
     "execution_count": 12,
     "metadata": {},
     "output_type": "execute_result"
    }
   ],
   "source": [
    "salary_bin = [0, 55000, 90000, 125000]\n",
    "bin_name = ['Low', 'Medium', 'High']\n",
    "\n",
    "binned = pd.cut (data_age.salary, salary_bin, labels= bin_name)\n",
    "\n",
    "binned\n",
    "\n",
    "binned_added = pd.concat([data_age, binned.rename('band')], axis=1)\n",
    "\n",
    "\n",
    "binned_added"
   ]
  },
  {
   "cell_type": "code",
   "execution_count": 13,
   "metadata": {},
   "outputs": [
    {
     "name": "stdout",
     "output_type": "stream",
     "text": [
      "The average age of people with \"High\" salary is 33.37418181818182\n"
     ]
    }
   ],
   "source": [
    "print ('The average age of people with \"High\" salary is', binned_added.filled_age[(binned_added['band']=='High')].mean())"
   ]
  },
  {
   "cell_type": "markdown",
   "metadata": {},
   "source": [
    "Question 3"
   ]
  },
  {
   "cell_type": "code",
   "execution_count": 14,
   "metadata": {},
   "outputs": [
    {
     "data": {
      "text/html": [
       "<div>\n",
       "<style scoped>\n",
       "    .dataframe tbody tr th:only-of-type {\n",
       "        vertical-align: middle;\n",
       "    }\n",
       "\n",
       "    .dataframe tbody tr th {\n",
       "        vertical-align: top;\n",
       "    }\n",
       "\n",
       "    .dataframe thead th {\n",
       "        text-align: right;\n",
       "    }\n",
       "</style>\n",
       "<table border=\"1\" class=\"dataframe\">\n",
       "  <thead>\n",
       "    <tr style=\"text-align: right;\">\n",
       "      <th></th>\n",
       "      <th>title</th>\n",
       "      <th>overview</th>\n",
       "      <th>original_language</th>\n",
       "      <th>vote_count</th>\n",
       "      <th>vote_average</th>\n",
       "    </tr>\n",
       "  </thead>\n",
       "  <tbody>\n",
       "    <tr>\n",
       "      <th>0</th>\n",
       "      <td>Ad Astra</td>\n",
       "      <td>The near future, a time when both hope and har...</td>\n",
       "      <td>en</td>\n",
       "      <td>2853</td>\n",
       "      <td>5.9</td>\n",
       "    </tr>\n",
       "    <tr>\n",
       "      <th>1</th>\n",
       "      <td>Bloodshot</td>\n",
       "      <td>After he and his wife are murdered, marine Ray...</td>\n",
       "      <td>en</td>\n",
       "      <td>1349</td>\n",
       "      <td>7.2</td>\n",
       "    </tr>\n",
       "    <tr>\n",
       "      <th>2</th>\n",
       "      <td>Bad Boys for Life</td>\n",
       "      <td>Marcus and Mike are forced to confront new thr...</td>\n",
       "      <td>en</td>\n",
       "      <td>2530</td>\n",
       "      <td>7.1</td>\n",
       "    </tr>\n",
       "    <tr>\n",
       "      <th>3</th>\n",
       "      <td>Ant-Man</td>\n",
       "      <td>Armed with the astonishing ability to shrink i...</td>\n",
       "      <td>en</td>\n",
       "      <td>13611</td>\n",
       "      <td>7.1</td>\n",
       "    </tr>\n",
       "    <tr>\n",
       "      <th>4</th>\n",
       "      <td>Percy Jackson: Sea of Monsters</td>\n",
       "      <td>In their quest to confront the ultimate evil, ...</td>\n",
       "      <td>en</td>\n",
       "      <td>3542</td>\n",
       "      <td>5.9</td>\n",
       "    </tr>\n",
       "  </tbody>\n",
       "</table>\n",
       "</div>"
      ],
      "text/plain": [
       "                            title  \\\n",
       "0                        Ad Astra   \n",
       "1                       Bloodshot   \n",
       "2               Bad Boys for Life   \n",
       "3                         Ant-Man   \n",
       "4  Percy Jackson: Sea of Monsters   \n",
       "\n",
       "                                            overview original_language  \\\n",
       "0  The near future, a time when both hope and har...                en   \n",
       "1  After he and his wife are murdered, marine Ray...                en   \n",
       "2  Marcus and Mike are forced to confront new thr...                en   \n",
       "3  Armed with the astonishing ability to shrink i...                en   \n",
       "4  In their quest to confront the ultimate evil, ...                en   \n",
       "\n",
       "   vote_count  vote_average  \n",
       "0        2853           5.9  \n",
       "1        1349           7.2  \n",
       "2        2530           7.1  \n",
       "3       13611           7.1  \n",
       "4        3542           5.9  "
      ]
     },
     "execution_count": 14,
     "metadata": {},
     "output_type": "execute_result"
    }
   ],
   "source": [
    "data3 = pd.read_csv('movies.csv', index_col=0)\n",
    "\n",
    "data3.head ()"
   ]
  },
  {
   "cell_type": "code",
   "execution_count": 15,
   "metadata": {},
   "outputs": [
    {
     "data": {
      "text/html": [
       "<div>\n",
       "<style scoped>\n",
       "    .dataframe tbody tr th:only-of-type {\n",
       "        vertical-align: middle;\n",
       "    }\n",
       "\n",
       "    .dataframe tbody tr th {\n",
       "        vertical-align: top;\n",
       "    }\n",
       "\n",
       "    .dataframe thead th {\n",
       "        text-align: right;\n",
       "    }\n",
       "</style>\n",
       "<table border=\"1\" class=\"dataframe\">\n",
       "  <thead>\n",
       "    <tr style=\"text-align: right;\">\n",
       "      <th></th>\n",
       "      <th>title</th>\n",
       "      <th>overview</th>\n",
       "      <th>original_language</th>\n",
       "      <th>vote_count</th>\n",
       "      <th>vote_average</th>\n",
       "    </tr>\n",
       "  </thead>\n",
       "  <tbody>\n",
       "    <tr>\n",
       "      <th>0</th>\n",
       "      <td>Ad Astra</td>\n",
       "      <td>The near future, a time when both hope and har...</td>\n",
       "      <td>en</td>\n",
       "      <td>2853</td>\n",
       "      <td>5.9</td>\n",
       "    </tr>\n",
       "    <tr>\n",
       "      <th>1</th>\n",
       "      <td>Bloodshot</td>\n",
       "      <td>After he and his wife are murdered, marine Ray...</td>\n",
       "      <td>en</td>\n",
       "      <td>1349</td>\n",
       "      <td>7.2</td>\n",
       "    </tr>\n",
       "    <tr>\n",
       "      <th>2</th>\n",
       "      <td>Bad Boys for Life</td>\n",
       "      <td>Marcus and Mike are forced to confront new thr...</td>\n",
       "      <td>en</td>\n",
       "      <td>2530</td>\n",
       "      <td>7.1</td>\n",
       "    </tr>\n",
       "    <tr>\n",
       "      <th>3</th>\n",
       "      <td>Ant-Man</td>\n",
       "      <td>Armed with the astonishing ability to shrink i...</td>\n",
       "      <td>en</td>\n",
       "      <td>13611</td>\n",
       "      <td>7.1</td>\n",
       "    </tr>\n",
       "    <tr>\n",
       "      <th>4</th>\n",
       "      <td>Percy Jackson: Sea of Monsters</td>\n",
       "      <td>In their quest to confront the ultimate evil, ...</td>\n",
       "      <td>en</td>\n",
       "      <td>3542</td>\n",
       "      <td>5.9</td>\n",
       "    </tr>\n",
       "    <tr>\n",
       "      <th>...</th>\n",
       "      <td>...</td>\n",
       "      <td>...</td>\n",
       "      <td>...</td>\n",
       "      <td>...</td>\n",
       "      <td>...</td>\n",
       "    </tr>\n",
       "    <tr>\n",
       "      <th>9992</th>\n",
       "      <td>Eagle vs Shark</td>\n",
       "      <td>The New Zealand made \"Eagle vs Shark\" is the t...</td>\n",
       "      <td>en</td>\n",
       "      <td>154</td>\n",
       "      <td>6.6</td>\n",
       "    </tr>\n",
       "    <tr>\n",
       "      <th>9993</th>\n",
       "      <td>High Flying Bird</td>\n",
       "      <td>During an NBA lockout, a sports agent, Ray Bur...</td>\n",
       "      <td>en</td>\n",
       "      <td>124</td>\n",
       "      <td>5.8</td>\n",
       "    </tr>\n",
       "    <tr>\n",
       "      <th>9995</th>\n",
       "      <td>Cargo</td>\n",
       "      <td>The story of CARGO takes place on rusty space-...</td>\n",
       "      <td>de</td>\n",
       "      <td>225</td>\n",
       "      <td>5.9</td>\n",
       "    </tr>\n",
       "    <tr>\n",
       "      <th>9997</th>\n",
       "      <td>The World Is Yours</td>\n",
       "      <td>To escape his life of crime, a Paris drug deal...</td>\n",
       "      <td>fr</td>\n",
       "      <td>234</td>\n",
       "      <td>7.1</td>\n",
       "    </tr>\n",
       "    <tr>\n",
       "      <th>9998</th>\n",
       "      <td>The Grand Seduction</td>\n",
       "      <td>A small fishing village must procure a local d...</td>\n",
       "      <td>en</td>\n",
       "      <td>169</td>\n",
       "      <td>6.7</td>\n",
       "    </tr>\n",
       "  </tbody>\n",
       "</table>\n",
       "<p>8405 rows × 5 columns</p>\n",
       "</div>"
      ],
      "text/plain": [
       "                               title  \\\n",
       "0                           Ad Astra   \n",
       "1                          Bloodshot   \n",
       "2                  Bad Boys for Life   \n",
       "3                            Ant-Man   \n",
       "4     Percy Jackson: Sea of Monsters   \n",
       "...                              ...   \n",
       "9992                  Eagle vs Shark   \n",
       "9993                High Flying Bird   \n",
       "9995                           Cargo   \n",
       "9997              The World Is Yours   \n",
       "9998             The Grand Seduction   \n",
       "\n",
       "                                               overview original_language  \\\n",
       "0     The near future, a time when both hope and har...                en   \n",
       "1     After he and his wife are murdered, marine Ray...                en   \n",
       "2     Marcus and Mike are forced to confront new thr...                en   \n",
       "3     Armed with the astonishing ability to shrink i...                en   \n",
       "4     In their quest to confront the ultimate evil, ...                en   \n",
       "...                                                 ...               ...   \n",
       "9992  The New Zealand made \"Eagle vs Shark\" is the t...                en   \n",
       "9993  During an NBA lockout, a sports agent, Ray Bur...                en   \n",
       "9995  The story of CARGO takes place on rusty space-...                de   \n",
       "9997  To escape his life of crime, a Paris drug deal...                fr   \n",
       "9998  A small fishing village must procure a local d...                en   \n",
       "\n",
       "      vote_count  vote_average  \n",
       "0           2853           5.9  \n",
       "1           1349           7.2  \n",
       "2           2530           7.1  \n",
       "3          13611           7.1  \n",
       "4           3542           5.9  \n",
       "...          ...           ...  \n",
       "9992         154           6.6  \n",
       "9993         124           5.8  \n",
       "9995         225           5.9  \n",
       "9997         234           7.1  \n",
       "9998         169           6.7  \n",
       "\n",
       "[8405 rows x 5 columns]"
      ]
     },
     "execution_count": 15,
     "metadata": {},
     "output_type": "execute_result"
    }
   ],
   "source": [
    "data_more = data3[data3['vote_count'] >= 100]\n",
    "\n",
    "data_more"
   ]
  },
  {
   "cell_type": "code",
   "execution_count": 16,
   "metadata": {},
   "outputs": [
    {
     "name": "stdout",
     "output_type": "stream",
     "text": [
      "The language which is third highest in the list is  ja    190\n",
      "Name: original_language, dtype: int64\n"
     ]
    }
   ],
   "source": [
    "language_count = data_more.original_language.value_counts()\n",
    "print ('The language which is third highest in the list is ', language_count [2:3])"
   ]
  },
  {
   "cell_type": "markdown",
   "metadata": {},
   "source": [
    "From the above code, we see that Japanese is the language with the third highest number of occurences in the list. It was received by getting all the language count and taking the language in the third space using slicer."
   ]
  },
  {
   "cell_type": "code",
   "execution_count": 17,
   "metadata": {},
   "outputs": [
    {
     "name": "stdout",
     "output_type": "stream",
     "text": [
      "There are total of 2 Finnish movies\n",
      "This is the Finnish movie with the highest rating\n"
     ]
    },
    {
     "data": {
      "text/html": [
       "<div>\n",
       "<style scoped>\n",
       "    .dataframe tbody tr th:only-of-type {\n",
       "        vertical-align: middle;\n",
       "    }\n",
       "\n",
       "    .dataframe tbody tr th {\n",
       "        vertical-align: top;\n",
       "    }\n",
       "\n",
       "    .dataframe thead th {\n",
       "        text-align: right;\n",
       "    }\n",
       "</style>\n",
       "<table border=\"1\" class=\"dataframe\">\n",
       "  <thead>\n",
       "    <tr style=\"text-align: right;\">\n",
       "      <th></th>\n",
       "      <th>title</th>\n",
       "      <th>overview</th>\n",
       "      <th>original_language</th>\n",
       "      <th>vote_count</th>\n",
       "      <th>vote_average</th>\n",
       "    </tr>\n",
       "  </thead>\n",
       "  <tbody>\n",
       "    <tr>\n",
       "      <th>6553</th>\n",
       "      <td>The Man Without a Past</td>\n",
       "      <td>The second part of Aki Kaurismäki's \"Finland\" ...</td>\n",
       "      <td>fi</td>\n",
       "      <td>143</td>\n",
       "      <td>7.4</td>\n",
       "    </tr>\n",
       "  </tbody>\n",
       "</table>\n",
       "</div>"
      ],
      "text/plain": [
       "                       title  \\\n",
       "6553  The Man Without a Past   \n",
       "\n",
       "                                               overview original_language  \\\n",
       "6553  The second part of Aki Kaurismäki's \"Finland\" ...                fi   \n",
       "\n",
       "      vote_count  vote_average  \n",
       "6553         143           7.4  "
      ]
     },
     "execution_count": 17,
     "metadata": {},
     "output_type": "execute_result"
    }
   ],
   "source": [
    "finnish_vote = data_more[(data_more['original_language']=='fi')]\n",
    "print ('There are total of', finnish_vote.vote_count.count(), 'Finnish movies')\n",
    "print ('This is the Finnish movie with the highest rating')\n",
    "finnish_vote[(finnish_vote['vote_average']==finnish_vote.vote_average.max())]\n",
    "\n"
   ]
  },
  {
   "cell_type": "code",
   "execution_count": 18,
   "metadata": {},
   "outputs": [
    {
     "name": "stdout",
     "output_type": "stream",
     "text": [
      "The average of votes for all French movies are 6.844207317073171\n"
     ]
    }
   ],
   "source": [
    "print ('The average of votes for all French movies are', data_more[(data_more['original_language']=='fr')].vote_average.mean())"
   ]
  },
  {
   "cell_type": "code",
   "execution_count": 19,
   "metadata": {},
   "outputs": [
    {
     "name": "stdout",
     "output_type": "stream",
     "text": [
      "The average of votes for all Spanish movies are 6.823853211009177\n"
     ]
    }
   ],
   "source": [
    "print ('The average of votes for all Spanish movies are', data_more[(data_more['original_language']=='es')].vote_average.mean())"
   ]
  },
  {
   "cell_type": "markdown",
   "metadata": {},
   "source": [
    "From the above two instances, we can see that French movies have a slightly higher average rating as compared to Spanish movies"
   ]
  },
  {
   "cell_type": "code",
   "execution_count": 20,
   "metadata": {},
   "outputs": [
    {
     "data": {
      "text/plain": [
       "0       Good\n",
       "1       Good\n",
       "2       Good\n",
       "3       Good\n",
       "4       Good\n",
       "        ... \n",
       "9992    Good\n",
       "9993    Good\n",
       "9995    Good\n",
       "9997    Good\n",
       "9998    Good\n",
       "Name: vote_average, Length: 8405, dtype: category\n",
       "Categories (4, object): ['Bad' < 'OK' < 'Good' < 'Excellent']"
      ]
     },
     "execution_count": 20,
     "metadata": {},
     "output_type": "execute_result"
    }
   ],
   "source": [
    "review_bin = [0, 2.5, 5, 7.5, 10]\n",
    "review = ['Bad', 'OK', 'Good', 'Excellent']\n",
    "\n",
    "movie_bin = pd.cut (data_more.vote_average, review_bin, labels= review)\n",
    "\n",
    "movie_bin\n",
    "\n"
   ]
  },
  {
   "cell_type": "code",
   "execution_count": 21,
   "metadata": {},
   "outputs": [
    {
     "name": "stdout",
     "output_type": "stream",
     "text": [
      "Most of the movie has got the rating Good with  7008 movies being in this review bracket\n"
     ]
    }
   ],
   "source": [
    "binned_movie = pd.concat([data_more, movie_bin.rename('review')], axis=1)\n",
    "\n",
    "\n",
    "binned_movie\n",
    "\n",
    "review_count = binned_movie.review.value_counts()\n",
    "\n",
    "print (\"Most of the movie has got the rating\", review_count.idxmax(), 'with ', review_count.max(), 'movies being in this review bracket')"
   ]
  }
 ],
 "metadata": {
  "interpreter": {
   "hash": "40d3a090f54c6569ab1632332b64b2c03c39dcf918b08424e98f38b5ae0af88f"
  },
  "kernelspec": {
   "display_name": "Python 3.9.7 64-bit ('base': conda)",
   "language": "python",
   "name": "python3"
  },
  "language_info": {
   "codemirror_mode": {
    "name": "ipython",
    "version": 3
   },
   "file_extension": ".py",
   "mimetype": "text/x-python",
   "name": "python",
   "nbconvert_exporter": "python",
   "pygments_lexer": "ipython3",
   "version": "3.9.7"
  },
  "orig_nbformat": 4
 },
 "nbformat": 4,
 "nbformat_minor": 2
}
