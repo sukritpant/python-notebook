{
 "cells": [
  {
   "cell_type": "markdown",
   "metadata": {},
   "source": [
    "Association Rule and Classificaiton using SKLearn and MLXtend"
   ]
  },
  {
   "cell_type": "markdown",
   "metadata": {},
   "source": [
    "Importing all the necessary libraries"
   ]
  },
  {
   "cell_type": "code",
   "execution_count": 1,
   "metadata": {},
   "outputs": [],
   "source": [
    "import numpy as np\n",
    "import pandas as pd\n",
    "import matplotlib.pyplot as plt\n",
    "import seaborn as sns\n",
    "\n",
    "import mlxtend.preprocessing\n",
    "import mlxtend.frequent_patterns\n",
    "\n",
    "from sklearn.linear_model import LogisticRegression\n",
    "from sklearn.model_selection import train_test_split\n",
    "from sklearn.metrics import confusion_matrix, classification_report\n",
    "from sklearn.tree import DecisionTreeClassifier\n",
    "from sklearn import tree\n",
    "from sklearn.ensemble import BaggingClassifier\n",
    "import sklearn\n",
    "\n",
    "from sklearn.model_selection import GridSearchCV\n",
    "from sklearn.ensemble import RandomForestClassifier\n",
    "from sklearn.ensemble import RandomForestRegressor\n",
    "from sklearn.metrics import mean_squared_error as mse\n",
    "from sklearn.tree import DecisionTreeRegressor\n",
    "from sklearn.linear_model import LinearRegression"
   ]
  },
  {
   "cell_type": "markdown",
   "metadata": {},
   "source": [
    "Question no. 1 Association Rules"
   ]
  },
  {
   "cell_type": "code",
   "execution_count": 2,
   "metadata": {},
   "outputs": [
    {
     "name": "stdout",
     "output_type": "stream",
     "text": [
      "   Transaction           Item         date_time period_day weekday_weekend\n",
      "0            1          Bread  30-10-2016 09:58    morning         weekend\n",
      "1            2   Scandinavian  30-10-2016 10:05    morning         weekend\n",
      "2            2   Scandinavian  30-10-2016 10:05    morning         weekend\n",
      "3            3  Hot chocolate  30-10-2016 10:07    morning         weekend\n",
      "4            3            Jam  30-10-2016 10:07    morning         weekend\n",
      "(20507, 5)\n"
     ]
    }
   ],
   "source": [
    "basket = pd.read_csv('assignment_basket.csv')\n",
    "\n",
    "print(basket.head())\n",
    "print(basket.shape)"
   ]
  },
  {
   "cell_type": "code",
   "execution_count": 3,
   "metadata": {},
   "outputs": [
    {
     "name": "stdout",
     "output_type": "stream",
     "text": [
      "Item\n",
      "Coffee    3543\n",
      "Bread     2092\n",
      "Tea        976\n",
      "Cake       612\n",
      "Pastry     566\n",
      "dtype: int64\n",
      "Item\n",
      "Coffee    1928\n",
      "Bread     1233\n",
      "Tea        459\n",
      "Cake       413\n",
      "Pastry     290\n",
      "dtype: int64\n"
     ]
    }
   ],
   "source": [
    "basket_weekday = basket.loc[basket['weekday_weekend'] == 'weekday'] #The data from the weekdays were collected to check if there are any major changes between weekday and weekend\n",
    "basket_weekend = basket.loc[basket['weekday_weekend'] == 'weekend'] #The data was also extracted from weekend\n",
    "\n",
    "print (basket_weekday.value_counts('Item')[:5])\n",
    "print (basket_weekend.value_counts('Item')[:5])"
   ]
  },
  {
   "cell_type": "code",
   "execution_count": 4,
   "metadata": {},
   "outputs": [
    {
     "name": "stdout",
     "output_type": "stream",
     "text": [
      "(8404, 5)\n",
      "(11569, 5)\n",
      "       Transaction            Item         date_time period_day  \\\n",
      "20465         9664          Coffee  09-04-2017 11:40    morning   \n",
      "20466         9664           Bread  09-04-2017 11:40    morning   \n",
      "20467         9665          Coffee  09-04-2017 11:59    morning   \n",
      "20468         9665           Juice  09-04-2017 11:59    morning   \n",
      "20469         9665  Spanish Brunch  09-04-2017 11:59    morning   \n",
      "\n",
      "      weekday_weekend  \n",
      "20465         weekend  \n",
      "20466         weekend  \n",
      "20467         weekend  \n",
      "20468         weekend  \n",
      "20469         weekend  \n",
      "    Transaction          Item         date_time period_day weekday_weekend\n",
      "86           43  Scandinavian  30-10-2016 12:00  afternoon         weekend\n",
      "87           43         Fudge  30-10-2016 12:00  afternoon         weekend\n",
      "88           44        Coffee  30-10-2016 12:05  afternoon         weekend\n",
      "89           44     Medialuna  30-10-2016 12:05  afternoon         weekend\n",
      "90           45        Coffee  30-10-2016 12:08  afternoon         weekend\n"
     ]
    }
   ],
   "source": [
    "basket_morning = basket.loc[basket['period_day'] == 'morning'] \n",
    "basket_afternoon = basket.loc[basket['period_day']== 'afternoon']\n",
    "#The data were seperated among morning and afternoon datasets\n",
    "print(basket_morning.shape)\n",
    "print(basket_afternoon.shape)\n",
    "print(basket_morning.tail())\n",
    "print(basket_afternoon.head())"
   ]
  },
  {
   "cell_type": "code",
   "execution_count": 5,
   "metadata": {},
   "outputs": [
    {
     "name": "stdout",
     "output_type": "stream",
     "text": [
      "Item\n",
      "Coffee       2561\n",
      "Bread        1610\n",
      "Pastry        604\n",
      "Tea           456\n",
      "Medialuna     402\n",
      "dtype: int64\n",
      "Item\n",
      "Coffee      2823\n",
      "Bread       1661\n",
      "Tea          930\n",
      "Cake         731\n",
      "Sandwich     671\n",
      "dtype: int64\n"
     ]
    }
   ],
   "source": [
    "print (basket_morning.value_counts('Item')[:5])\n",
    "print (basket_afternoon.value_counts('Item')[:5])\n",
    "#The values were checked for the morning and afternoon datasets."
   ]
  },
  {
   "cell_type": "code",
   "execution_count": 6,
   "metadata": {},
   "outputs": [
    {
     "data": {
      "text/plain": [
       "[['Coffee', 'Cake'],\n",
       " ['Hot chocolate', 'Half slice Monster ', 'My-5 Fruit Shoot'],\n",
       " ['Tea'],\n",
       " ['Coffee', 'Toast'],\n",
       " ['Coffee'],\n",
       " ['Coffee', 'Spanish Brunch', 'Extra Salami or Feta'],\n",
       " ['Tea', 'Juice', 'Cake'],\n",
       " ['Bread'],\n",
       " ['Coffee', 'Coffee', 'Bread'],\n",
       " ['Coffee', 'Juice', 'Spanish Brunch']]"
      ]
     },
     "execution_count": 6,
     "metadata": {},
     "output_type": "execute_result"
    }
   ],
   "source": [
    "list_morning = basket_morning.groupby(['Transaction'])['Item'].apply(list).values.tolist()\n",
    "list_morning[-10:]"
   ]
  },
  {
   "cell_type": "code",
   "execution_count": 7,
   "metadata": {},
   "outputs": [
    {
     "data": {
      "text/plain": [
       "[['Coffee'],\n",
       " ['Smoothies', 'Sandwich'],\n",
       " ['Tacos/Fajita', 'Coke'],\n",
       " ['Coffee', 'Tacos/Fajita', 'Toast'],\n",
       " ['Bread', 'Spanish Brunch'],\n",
       " ['Bread'],\n",
       " ['Truffles', 'Tea', 'Spanish Brunch', 'Christmas common'],\n",
       " ['Muffin', 'Tacos/Fajita', 'Coffee', 'Tea'],\n",
       " ['Coffee', 'Pastry'],\n",
       " ['Smoothies']]"
      ]
     },
     "execution_count": 7,
     "metadata": {},
     "output_type": "execute_result"
    }
   ],
   "source": [
    "list_afternoon = basket_afternoon.groupby(['Transaction'])['Item'].apply(list).values.tolist()\n",
    "list_afternoon[-10:]"
   ]
  },
  {
   "cell_type": "markdown",
   "metadata": {},
   "source": [
    "Both the dataset were changed into a transactional list where all the item of the same transaction are kept in a single list."
   ]
  },
  {
   "cell_type": "code",
   "execution_count": 8,
   "metadata": {},
   "outputs": [
    {
     "name": "stdout",
     "output_type": "stream",
     "text": [
      "      Afternoon with the baker  Alfajores  Argentina Night  Art Tray  \\\n",
      "0                        False      False            False     False   \n",
      "1                        False      False            False     False   \n",
      "2                        False      False            False     False   \n",
      "3                        False      False            False     False   \n",
      "4                        False      False            False     False   \n",
      "...                        ...        ...              ...       ...   \n",
      "4098                     False      False            False     False   \n",
      "4099                     False      False            False     False   \n",
      "4100                     False      False            False     False   \n",
      "4101                     False      False            False     False   \n",
      "4102                     False      False            False     False   \n",
      "\n",
      "      Baguette  Bakewell  Basket  Bread  Brioche and salami  Brownie  ...  \\\n",
      "0        False     False   False   True               False    False  ...   \n",
      "1        False     False   False  False               False    False  ...   \n",
      "2        False     False   False  False               False    False  ...   \n",
      "3        False     False   False  False               False    False  ...   \n",
      "4        False     False   False   True               False    False  ...   \n",
      "...        ...       ...     ...    ...                 ...      ...  ...   \n",
      "4098     False     False   False  False               False    False  ...   \n",
      "4099     False     False   False  False               False    False  ...   \n",
      "4100     False     False   False   True               False    False  ...   \n",
      "4101     False     False   False   True               False    False  ...   \n",
      "4102     False     False   False  False               False    False  ...   \n",
      "\n",
      "        Tea  The BART  The Nomad  Tiffin  Toast  Truffles  Valentine's card  \\\n",
      "0     False     False      False   False  False     False             False   \n",
      "1     False     False      False   False  False     False             False   \n",
      "2     False     False      False   False  False     False             False   \n",
      "3     False     False      False   False  False     False             False   \n",
      "4     False     False      False   False  False     False             False   \n",
      "...     ...       ...        ...     ...    ...       ...               ...   \n",
      "4098  False     False      False   False  False     False             False   \n",
      "4099   True     False      False   False  False     False             False   \n",
      "4100  False     False      False   False  False     False             False   \n",
      "4101  False     False      False   False  False     False             False   \n",
      "4102  False     False      False   False  False     False             False   \n",
      "\n",
      "      Vegan Feast  Vegan mincepie  Victorian Sponge  \n",
      "0           False           False             False  \n",
      "1           False           False             False  \n",
      "2           False           False             False  \n",
      "3           False           False             False  \n",
      "4           False           False             False  \n",
      "...           ...             ...               ...  \n",
      "4098        False           False             False  \n",
      "4099        False           False             False  \n",
      "4100        False           False             False  \n",
      "4101        False           False             False  \n",
      "4102        False           False             False  \n",
      "\n",
      "[4103 rows x 76 columns]\n"
     ]
    }
   ],
   "source": [
    "mencoder = mlxtend.preprocessing.TransactionEncoder().fit(list_morning)\n",
    "\n",
    "mencoded_data = mencoder.transform(list_morning)\n",
    "\n",
    "morning_trans = pd.DataFrame(mencoded_data, columns = mencoder.columns_)\n",
    "\n",
    "print (morning_trans)"
   ]
  },
  {
   "cell_type": "code",
   "execution_count": 9,
   "metadata": {},
   "outputs": [
    {
     "name": "stdout",
     "output_type": "stream",
     "text": [
      "      Afternoon with the baker  Alfajores  Argentina Night  Art Tray  Bacon  \\\n",
      "0                        False      False            False     False  False   \n",
      "1                        False      False            False     False  False   \n",
      "2                        False      False            False     False  False   \n",
      "3                        False      False            False     False  False   \n",
      "4                        False      False            False     False  False   \n",
      "...                        ...        ...              ...       ...    ...   \n",
      "5084                     False      False            False     False  False   \n",
      "5085                     False      False            False     False  False   \n",
      "5086                     False      False            False     False  False   \n",
      "5087                     False      False            False     False  False   \n",
      "5088                     False      False            False     False  False   \n",
      "\n",
      "      Baguette  Bakewell  Bare Popcorn  Bowl Nic Pitt  Bread  ...  Tartine  \\\n",
      "0        False     False         False          False  False  ...    False   \n",
      "1        False     False         False          False  False  ...    False   \n",
      "2        False     False         False          False  False  ...    False   \n",
      "3        False     False         False          False  False  ...    False   \n",
      "4        False     False         False          False   True  ...    False   \n",
      "...        ...       ...           ...            ...    ...  ...      ...   \n",
      "5084     False     False         False          False   True  ...    False   \n",
      "5085     False     False         False          False  False  ...    False   \n",
      "5086     False     False         False          False  False  ...    False   \n",
      "5087     False     False         False          False  False  ...    False   \n",
      "5088     False     False         False          False  False  ...    False   \n",
      "\n",
      "        Tea  The Nomad  Tiffin  Toast  Truffles  Valentine's card  \\\n",
      "0     False      False   False  False     False             False   \n",
      "1     False      False   False  False     False             False   \n",
      "2     False      False   False  False     False             False   \n",
      "3     False      False   False  False     False             False   \n",
      "4     False      False   False  False     False             False   \n",
      "...     ...        ...     ...    ...       ...               ...   \n",
      "5084  False      False   False  False     False             False   \n",
      "5085   True      False   False  False      True             False   \n",
      "5086   True      False   False  False     False             False   \n",
      "5087  False      False   False  False     False             False   \n",
      "5088  False      False   False  False     False             False   \n",
      "\n",
      "      Vegan Feast  Vegan mincepie  Victorian Sponge  \n",
      "0           False           False             False  \n",
      "1           False           False             False  \n",
      "2           False           False             False  \n",
      "3           False           False             False  \n",
      "4           False           False             False  \n",
      "...           ...             ...               ...  \n",
      "5084        False           False             False  \n",
      "5085        False           False             False  \n",
      "5086        False           False             False  \n",
      "5087        False           False             False  \n",
      "5088        False           False             False  \n",
      "\n",
      "[5089 rows x 86 columns]\n"
     ]
    }
   ],
   "source": [
    "aencoder = mlxtend.preprocessing.TransactionEncoder().fit(list_afternoon)\n",
    "\n",
    "aencoded_data = aencoder.transform(list_afternoon)\n",
    "\n",
    "afternoon_trans = pd.DataFrame(aencoded_data, columns = aencoder.columns_)\n",
    "\n",
    "print (afternoon_trans)"
   ]
  },
  {
   "cell_type": "markdown",
   "metadata": {},
   "source": [
    "Both the dataset were changed so that each transaction would be recorded as true or false for each itemset."
   ]
  },
  {
   "cell_type": "code",
   "execution_count": 10,
   "metadata": {},
   "outputs": [
    {
     "data": {
      "text/plain": [
       "(4103, 76)"
      ]
     },
     "execution_count": 10,
     "metadata": {},
     "output_type": "execute_result"
    }
   ],
   "source": [
    "morning_trans.shape"
   ]
  },
  {
   "cell_type": "code",
   "execution_count": 11,
   "metadata": {},
   "outputs": [
    {
     "data": {
      "text/plain": [
       "(5089, 86)"
      ]
     },
     "execution_count": 11,
     "metadata": {},
     "output_type": "execute_result"
    }
   ],
   "source": [
    "afternoon_trans.shape"
   ]
  },
  {
   "cell_type": "code",
   "execution_count": 12,
   "metadata": {},
   "outputs": [
    {
     "name": "stdout",
     "output_type": "stream",
     "text": [
      "There are 1 values at support 0.5 and length 3\n",
      "There are 1 values at support 0.5 and length 4\n",
      "There are 1 values at support 0.5 and length 5\n",
      "There are 2 values at support 0.2 and length 3\n",
      "There are 2 values at support 0.2 and length 4\n",
      "There are 2 values at support 0.2 and length 5\n",
      "There are 4 values at support 0.1 and length 3\n",
      "There are 4 values at support 0.1 and length 4\n",
      "There are 4 values at support 0.1 and length 5\n",
      "There are 11 values at support 0.05 and length 3\n",
      "There are 11 values at support 0.05 and length 4\n",
      "There are 11 values at support 0.05 and length 5\n",
      "There are 29 values at support 0.02 and length 3\n",
      "There are 29 values at support 0.02 and length 4\n",
      "There are 29 values at support 0.02 and length 5\n",
      "There are 49 values at support 0.01 and length 3\n",
      "There are 49 values at support 0.01 and length 4\n",
      "There are 49 values at support 0.01 and length 5\n",
      "There are 91 values at support 0.005 and length 3\n",
      "There are 91 values at support 0.005 and length 4\n",
      "There are 91 values at support 0.005 and length 5\n",
      "There are 203 values at support 0.002 and length 3\n",
      "There are 204 values at support 0.002 and length 4\n",
      "There are 204 values at support 0.002 and length 5\n",
      "There are 325 values at support 0.001 and length 3\n",
      "There are 334 values at support 0.001 and length 4\n",
      "There are 334 values at support 0.001 and length 5\n",
      "There are 521 values at support 0.0005 and length 3\n",
      "There are 557 values at support 0.0005 and length 4\n",
      "There are 557 values at support 0.0005 and length 5\n",
      "There are 1819 values at support 0.0002 and length 3\n",
      "There are 2719 values at support 0.0002 and length 4\n",
      "There are 3121 values at support 0.0002 and length 5\n",
      "There are 1819 values at support 0.0001 and length 3\n",
      "There are 2719 values at support 0.0001 and length 4\n",
      "There are 3121 values at support 0.0001 and length 5\n"
     ]
    }
   ],
   "source": [
    "support_test = [0.5, 0.2, 0.1, 0.05, 0.02, 0.01, 0.005, 0.002, 0.001, 0.0005, 0.0002, 0.0001]\n",
    "\n",
    "for supp in support_test:\n",
    "    length = [3, 4, 5]\n",
    "    for len in length:\n",
    "        test = mlxtend.frequent_patterns.apriori(morning_trans, min_support=supp, max_len=len, use_colnames=True)\n",
    "        print ('There are',test.shape[0],'values at support',supp,'and length',len)\n",
    "\n",
    "#521 values at support 0.0005 and length 3 can be a good amount of dataset"
   ]
  },
  {
   "cell_type": "code",
   "execution_count": 13,
   "metadata": {},
   "outputs": [
    {
     "name": "stdout",
     "output_type": "stream",
     "text": [
      "      support                        itemsets\n",
      "0    0.002437      (Afternoon with the baker)\n",
      "1    0.024616                     (Alfajores)\n",
      "2    0.000975               (Argentina Night)\n",
      "3    0.001219                      (Art Tray)\n",
      "4    0.020473                      (Baguette)\n",
      "..        ...                             ...\n",
      "516  0.000731  (Hot chocolate, Tea, Sandwich)\n",
      "517  0.000731   (Jammie Dodgers, Muffin, Tea)\n",
      "518  0.001462            (Juice, Muffin, Tea)\n",
      "519  0.001219        (Pastry, Tea, Medialuna)\n",
      "520  0.001462           (Pastry, Muffin, Tea)\n",
      "\n",
      "[521 rows x 2 columns]\n"
     ]
    }
   ],
   "source": [
    "frequent_morning = mlxtend.frequent_patterns.apriori(morning_trans, min_support = 0.0005, max_len = 3, use_colnames = True)\n",
    "\n",
    "print (frequent_morning)"
   ]
  },
  {
   "cell_type": "code",
   "execution_count": 14,
   "metadata": {},
   "outputs": [
    {
     "data": {
      "text/html": [
       "<div>\n",
       "<style scoped>\n",
       "    .dataframe tbody tr th:only-of-type {\n",
       "        vertical-align: middle;\n",
       "    }\n",
       "\n",
       "    .dataframe tbody tr th {\n",
       "        vertical-align: top;\n",
       "    }\n",
       "\n",
       "    .dataframe thead th {\n",
       "        text-align: right;\n",
       "    }\n",
       "</style>\n",
       "<table border=\"1\" class=\"dataframe\">\n",
       "  <thead>\n",
       "    <tr style=\"text-align: right;\">\n",
       "      <th></th>\n",
       "      <th>antecedents</th>\n",
       "      <th>consequents</th>\n",
       "      <th>antecedent support</th>\n",
       "      <th>consequent support</th>\n",
       "      <th>support</th>\n",
       "      <th>confidence</th>\n",
       "      <th>lift</th>\n",
       "      <th>leverage</th>\n",
       "      <th>conviction</th>\n",
       "    </tr>\n",
       "  </thead>\n",
       "  <tbody>\n",
       "    <tr>\n",
       "      <th>0</th>\n",
       "      <td>(Alfajores)</td>\n",
       "      <td>(Coffee)</td>\n",
       "      <td>0.024616</td>\n",
       "      <td>0.514989</td>\n",
       "      <td>0.014623</td>\n",
       "      <td>0.594059</td>\n",
       "      <td>1.153538</td>\n",
       "      <td>0.001946</td>\n",
       "      <td>1.194783</td>\n",
       "    </tr>\n",
       "    <tr>\n",
       "      <th>1</th>\n",
       "      <td>(Art Tray)</td>\n",
       "      <td>(Coffee)</td>\n",
       "      <td>0.001219</td>\n",
       "      <td>0.514989</td>\n",
       "      <td>0.000731</td>\n",
       "      <td>0.600000</td>\n",
       "      <td>1.165073</td>\n",
       "      <td>0.000104</td>\n",
       "      <td>1.212527</td>\n",
       "    </tr>\n",
       "    <tr>\n",
       "      <th>2</th>\n",
       "      <td>(Bakewell)</td>\n",
       "      <td>(Coffee)</td>\n",
       "      <td>0.004387</td>\n",
       "      <td>0.514989</td>\n",
       "      <td>0.003168</td>\n",
       "      <td>0.722222</td>\n",
       "      <td>1.402403</td>\n",
       "      <td>0.000909</td>\n",
       "      <td>1.746039</td>\n",
       "    </tr>\n",
       "    <tr>\n",
       "      <th>3</th>\n",
       "      <td>(Basket)</td>\n",
       "      <td>(Coffee)</td>\n",
       "      <td>0.001462</td>\n",
       "      <td>0.514989</td>\n",
       "      <td>0.000975</td>\n",
       "      <td>0.666667</td>\n",
       "      <td>1.294526</td>\n",
       "      <td>0.000222</td>\n",
       "      <td>1.455033</td>\n",
       "    </tr>\n",
       "    <tr>\n",
       "      <th>4</th>\n",
       "      <td>(Eggs)</td>\n",
       "      <td>(Bread)</td>\n",
       "      <td>0.002681</td>\n",
       "      <td>0.363149</td>\n",
       "      <td>0.001706</td>\n",
       "      <td>0.636364</td>\n",
       "      <td>1.752349</td>\n",
       "      <td>0.000732</td>\n",
       "      <td>1.751340</td>\n",
       "    </tr>\n",
       "    <tr>\n",
       "      <th>5</th>\n",
       "      <td>(Frittata)</td>\n",
       "      <td>(Bread)</td>\n",
       "      <td>0.001219</td>\n",
       "      <td>0.363149</td>\n",
       "      <td>0.000731</td>\n",
       "      <td>0.600000</td>\n",
       "      <td>1.652215</td>\n",
       "      <td>0.000289</td>\n",
       "      <td>1.592128</td>\n",
       "    </tr>\n",
       "    <tr>\n",
       "      <th>6</th>\n",
       "      <td>(Nomad bag)</td>\n",
       "      <td>(Bread)</td>\n",
       "      <td>0.000975</td>\n",
       "      <td>0.363149</td>\n",
       "      <td>0.000975</td>\n",
       "      <td>1.000000</td>\n",
       "      <td>2.753691</td>\n",
       "      <td>0.000621</td>\n",
       "      <td>inf</td>\n",
       "    </tr>\n",
       "    <tr>\n",
       "      <th>7</th>\n",
       "      <td>(Brownie)</td>\n",
       "      <td>(Coffee)</td>\n",
       "      <td>0.029978</td>\n",
       "      <td>0.514989</td>\n",
       "      <td>0.016330</td>\n",
       "      <td>0.544715</td>\n",
       "      <td>1.057722</td>\n",
       "      <td>0.000891</td>\n",
       "      <td>1.065292</td>\n",
       "    </tr>\n",
       "    <tr>\n",
       "      <th>8</th>\n",
       "      <td>(Cake)</td>\n",
       "      <td>(Coffee)</td>\n",
       "      <td>0.063125</td>\n",
       "      <td>0.514989</td>\n",
       "      <td>0.033146</td>\n",
       "      <td>0.525097</td>\n",
       "      <td>1.019627</td>\n",
       "      <td>0.000638</td>\n",
       "      <td>1.021283</td>\n",
       "    </tr>\n",
       "    <tr>\n",
       "      <th>9</th>\n",
       "      <td>(Chocolates)</td>\n",
       "      <td>(Coffee)</td>\n",
       "      <td>0.000975</td>\n",
       "      <td>0.514989</td>\n",
       "      <td>0.000731</td>\n",
       "      <td>0.750000</td>\n",
       "      <td>1.456342</td>\n",
       "      <td>0.000229</td>\n",
       "      <td>1.940044</td>\n",
       "    </tr>\n",
       "  </tbody>\n",
       "</table>\n",
       "</div>"
      ],
      "text/plain": [
       "    antecedents consequents  antecedent support  consequent support   support  \\\n",
       "0   (Alfajores)    (Coffee)            0.024616            0.514989  0.014623   \n",
       "1    (Art Tray)    (Coffee)            0.001219            0.514989  0.000731   \n",
       "2    (Bakewell)    (Coffee)            0.004387            0.514989  0.003168   \n",
       "3      (Basket)    (Coffee)            0.001462            0.514989  0.000975   \n",
       "4        (Eggs)     (Bread)            0.002681            0.363149  0.001706   \n",
       "5    (Frittata)     (Bread)            0.001219            0.363149  0.000731   \n",
       "6   (Nomad bag)     (Bread)            0.000975            0.363149  0.000975   \n",
       "7     (Brownie)    (Coffee)            0.029978            0.514989  0.016330   \n",
       "8        (Cake)    (Coffee)            0.063125            0.514989  0.033146   \n",
       "9  (Chocolates)    (Coffee)            0.000975            0.514989  0.000731   \n",
       "\n",
       "   confidence      lift  leverage  conviction  \n",
       "0    0.594059  1.153538  0.001946    1.194783  \n",
       "1    0.600000  1.165073  0.000104    1.212527  \n",
       "2    0.722222  1.402403  0.000909    1.746039  \n",
       "3    0.666667  1.294526  0.000222    1.455033  \n",
       "4    0.636364  1.752349  0.000732    1.751340  \n",
       "5    0.600000  1.652215  0.000289    1.592128  \n",
       "6    1.000000  2.753691  0.000621         inf  \n",
       "7    0.544715  1.057722  0.000891    1.065292  \n",
       "8    0.525097  1.019627  0.000638    1.021283  \n",
       "9    0.750000  1.456342  0.000229    1.940044  "
      ]
     },
     "execution_count": 14,
     "metadata": {},
     "output_type": "execute_result"
    }
   ],
   "source": [
    "rule_morn = mlxtend.frequent_patterns.association_rules(frequent_morning, metric = \"confidence\", min_threshold = 0.5)\n",
    "#testing at 50 confidence\n",
    "rule_morn[:10]"
   ]
  },
  {
   "cell_type": "markdown",
   "metadata": {},
   "source": [
    "As coffee is the most purchased item, it looks like coffee is there with most of the product when there is a one to one relation so, most of the information are trivial."
   ]
  },
  {
   "cell_type": "code",
   "execution_count": 15,
   "metadata": {},
   "outputs": [
    {
     "data": {
      "text/html": [
       "<div>\n",
       "<style scoped>\n",
       "    .dataframe tbody tr th:only-of-type {\n",
       "        vertical-align: middle;\n",
       "    }\n",
       "\n",
       "    .dataframe tbody tr th {\n",
       "        vertical-align: top;\n",
       "    }\n",
       "\n",
       "    .dataframe thead th {\n",
       "        text-align: right;\n",
       "    }\n",
       "</style>\n",
       "<table border=\"1\" class=\"dataframe\">\n",
       "  <thead>\n",
       "    <tr style=\"text-align: right;\">\n",
       "      <th></th>\n",
       "      <th>antecedents</th>\n",
       "      <th>consequents</th>\n",
       "      <th>antecedent support</th>\n",
       "      <th>consequent support</th>\n",
       "      <th>support</th>\n",
       "      <th>confidence</th>\n",
       "      <th>lift</th>\n",
       "      <th>leverage</th>\n",
       "      <th>conviction</th>\n",
       "    </tr>\n",
       "  </thead>\n",
       "  <tbody>\n",
       "    <tr>\n",
       "      <th>4</th>\n",
       "      <td>(Eggs)</td>\n",
       "      <td>(Bread)</td>\n",
       "      <td>0.002681</td>\n",
       "      <td>0.363149</td>\n",
       "      <td>0.001706</td>\n",
       "      <td>0.636364</td>\n",
       "      <td>1.752349</td>\n",
       "      <td>0.000732</td>\n",
       "      <td>1.75134</td>\n",
       "    </tr>\n",
       "  </tbody>\n",
       "</table>\n",
       "</div>"
      ],
      "text/plain": [
       "  antecedents consequents  antecedent support  consequent support   support  \\\n",
       "4      (Eggs)     (Bread)            0.002681            0.363149  0.001706   \n",
       "\n",
       "   confidence      lift  leverage  conviction  \n",
       "4    0.636364  1.752349  0.000732     1.75134  "
      ]
     },
     "execution_count": 15,
     "metadata": {},
     "output_type": "execute_result"
    }
   ],
   "source": [
    "selection_morn = rule_morn['antecedents'].apply(lambda x: 'Eggs' in x)\n",
    "rule_morn[selection_morn]"
   ]
  },
  {
   "cell_type": "markdown",
   "metadata": {},
   "source": [
    "If someone has eggs in their basket in the morning, bread would be the most likely recommendation."
   ]
  },
  {
   "cell_type": "code",
   "execution_count": 16,
   "metadata": {},
   "outputs": [
    {
     "name": "stdout",
     "output_type": "stream",
     "text": [
      "There are 0 values at support 0.5 and length 3\n",
      "There are 0 values at support 0.5 and length 4\n",
      "There are 0 values at support 0.5 and length 5\n",
      "There are 2 values at support 0.2 and length 3\n",
      "There are 2 values at support 0.2 and length 4\n",
      "There are 2 values at support 0.2 and length 5\n",
      "There are 5 values at support 0.1 and length 3\n",
      "There are 5 values at support 0.1 and length 4\n",
      "There are 5 values at support 0.1 and length 5\n",
      "There are 12 values at support 0.05 and length 3\n",
      "There are 12 values at support 0.05 and length 4\n",
      "There are 12 values at support 0.05 and length 5\n",
      "There are 41 values at support 0.02 and length 3\n",
      "There are 41 values at support 0.02 and length 4\n",
      "There are 41 values at support 0.02 and length 5\n",
      "There are 70 values at support 0.01 and length 3\n",
      "There are 70 values at support 0.01 and length 4\n",
      "There are 70 values at support 0.01 and length 5\n",
      "There are 130 values at support 0.005 and length 3\n",
      "There are 130 values at support 0.005 and length 4\n",
      "There are 130 values at support 0.005 and length 5\n",
      "There are 299 values at support 0.002 and length 3\n",
      "There are 299 values at support 0.002 and length 4\n",
      "There are 299 values at support 0.002 and length 5\n",
      "There are 527 values at support 0.001 and length 3\n",
      "There are 540 values at support 0.001 and length 4\n",
      "There are 540 values at support 0.001 and length 5\n",
      "There are 1025 values at support 0.0005 and length 3\n",
      "There are 1145 values at support 0.0005 and length 4\n",
      "There are 1148 values at support 0.0005 and length 5\n",
      "There are 1563 values at support 0.0002 and length 3\n",
      "There are 1910 values at support 0.0002 and length 4\n",
      "There are 1939 values at support 0.0002 and length 5\n",
      "There are 3495 values at support 0.0001 and length 3\n",
      "There are 6040 values at support 0.0001 and length 4\n",
      "There are 7407 values at support 0.0001 and length 5\n"
     ]
    }
   ],
   "source": [
    "support_test = [0.5, 0.2, 0.1, 0.05, 0.02, 0.01, 0.005, 0.002, 0.001, 0.0005, 0.0002, 0.0001]\n",
    "\n",
    "for supp in support_test:\n",
    "    length = [3, 4, 5]\n",
    "    for len in length:\n",
    "        test = mlxtend.frequent_patterns.apriori(afternoon_trans, min_support=supp, max_len=len, use_colnames=True)\n",
    "        print ('There are',test.shape[0],'values at support',supp,'and length',len)\n",
    "\n",
    "#527 values at support 0.001 and length 3 was used. 500 was used as an arbitary cutoff for values."
   ]
  },
  {
   "cell_type": "code",
   "execution_count": 17,
   "metadata": {},
   "outputs": [
    {
     "name": "stdout",
     "output_type": "stream",
     "text": [
      "      support                          itemsets\n",
      "0    0.003734        (Afternoon with the baker)\n",
      "1    0.044606                       (Alfajores)\n",
      "2    0.006092                        (Art Tray)\n",
      "3    0.013166                        (Baguette)\n",
      "4    0.005895                        (Bakewell)\n",
      "..        ...                               ...\n",
      "522  0.001179    (Hot chocolate, Tea, Sandwich)\n",
      "523  0.001179  (Juice, Mineral water, Sandwich)\n",
      "524  0.001572            (Juice, Tea, Sandwich)\n",
      "525  0.001179        (Tea, Sandwich, Medialuna)\n",
      "526  0.002948             (Soup, Tea, Sandwich)\n",
      "\n",
      "[527 rows x 2 columns]\n"
     ]
    }
   ],
   "source": [
    "frequent_afternoon = mlxtend.frequent_patterns.apriori(afternoon_trans, min_support = 0.001, max_len = 3, use_colnames = True)\n",
    "\n",
    "print (frequent_afternoon)"
   ]
  },
  {
   "cell_type": "code",
   "execution_count": 18,
   "metadata": {},
   "outputs": [
    {
     "data": {
      "text/html": [
       "<div>\n",
       "<style scoped>\n",
       "    .dataframe tbody tr th:only-of-type {\n",
       "        vertical-align: middle;\n",
       "    }\n",
       "\n",
       "    .dataframe tbody tr th {\n",
       "        vertical-align: top;\n",
       "    }\n",
       "\n",
       "    .dataframe thead th {\n",
       "        text-align: right;\n",
       "    }\n",
       "</style>\n",
       "<table border=\"1\" class=\"dataframe\">\n",
       "  <thead>\n",
       "    <tr style=\"text-align: right;\">\n",
       "      <th></th>\n",
       "      <th>antecedents</th>\n",
       "      <th>consequents</th>\n",
       "      <th>antecedent support</th>\n",
       "      <th>consequent support</th>\n",
       "      <th>support</th>\n",
       "      <th>confidence</th>\n",
       "      <th>lift</th>\n",
       "      <th>leverage</th>\n",
       "      <th>conviction</th>\n",
       "    </tr>\n",
       "  </thead>\n",
       "  <tbody>\n",
       "    <tr>\n",
       "      <th>0</th>\n",
       "      <td>(Alfajores)</td>\n",
       "      <td>(Coffee)</td>\n",
       "      <td>0.044606</td>\n",
       "      <td>0.459815</td>\n",
       "      <td>0.022991</td>\n",
       "      <td>0.515419</td>\n",
       "      <td>1.120925</td>\n",
       "      <td>0.002480</td>\n",
       "      <td>1.114745</td>\n",
       "    </tr>\n",
       "    <tr>\n",
       "      <th>1</th>\n",
       "      <td>(Art Tray)</td>\n",
       "      <td>(Coffee)</td>\n",
       "      <td>0.006092</td>\n",
       "      <td>0.459815</td>\n",
       "      <td>0.004520</td>\n",
       "      <td>0.741935</td>\n",
       "      <td>1.613551</td>\n",
       "      <td>0.001719</td>\n",
       "      <td>2.093216</td>\n",
       "    </tr>\n",
       "    <tr>\n",
       "      <th>2</th>\n",
       "      <td>(Bakewell)</td>\n",
       "      <td>(Coffee)</td>\n",
       "      <td>0.005895</td>\n",
       "      <td>0.459815</td>\n",
       "      <td>0.003144</td>\n",
       "      <td>0.533333</td>\n",
       "      <td>1.159886</td>\n",
       "      <td>0.000433</td>\n",
       "      <td>1.157539</td>\n",
       "    </tr>\n",
       "    <tr>\n",
       "      <th>3</th>\n",
       "      <td>(Cake)</td>\n",
       "      <td>(Coffee)</td>\n",
       "      <td>0.136766</td>\n",
       "      <td>0.459815</td>\n",
       "      <td>0.071920</td>\n",
       "      <td>0.525862</td>\n",
       "      <td>1.143638</td>\n",
       "      <td>0.009033</td>\n",
       "      <td>1.139299</td>\n",
       "    </tr>\n",
       "    <tr>\n",
       "      <th>4</th>\n",
       "      <td>(Crisps)</td>\n",
       "      <td>(Coffee)</td>\n",
       "      <td>0.002162</td>\n",
       "      <td>0.459815</td>\n",
       "      <td>0.001376</td>\n",
       "      <td>0.636364</td>\n",
       "      <td>1.383955</td>\n",
       "      <td>0.000382</td>\n",
       "      <td>1.485508</td>\n",
       "    </tr>\n",
       "    <tr>\n",
       "      <th>5</th>\n",
       "      <td>(Extra Salami or Feta)</td>\n",
       "      <td>(Coffee)</td>\n",
       "      <td>0.005109</td>\n",
       "      <td>0.459815</td>\n",
       "      <td>0.003930</td>\n",
       "      <td>0.769231</td>\n",
       "      <td>1.672913</td>\n",
       "      <td>0.001581</td>\n",
       "      <td>2.340800</td>\n",
       "    </tr>\n",
       "    <tr>\n",
       "      <th>6</th>\n",
       "      <td>(Frittata)</td>\n",
       "      <td>(Coffee)</td>\n",
       "      <td>0.014934</td>\n",
       "      <td>0.459815</td>\n",
       "      <td>0.007860</td>\n",
       "      <td>0.526316</td>\n",
       "      <td>1.144624</td>\n",
       "      <td>0.000993</td>\n",
       "      <td>1.140390</td>\n",
       "    </tr>\n",
       "    <tr>\n",
       "      <th>7</th>\n",
       "      <td>(Granola)</td>\n",
       "      <td>(Coffee)</td>\n",
       "      <td>0.002162</td>\n",
       "      <td>0.459815</td>\n",
       "      <td>0.001376</td>\n",
       "      <td>0.636364</td>\n",
       "      <td>1.383955</td>\n",
       "      <td>0.000382</td>\n",
       "      <td>1.485508</td>\n",
       "    </tr>\n",
       "    <tr>\n",
       "      <th>8</th>\n",
       "      <td>(Hearty &amp; Seasonal)</td>\n",
       "      <td>(Coffee)</td>\n",
       "      <td>0.017882</td>\n",
       "      <td>0.459815</td>\n",
       "      <td>0.009825</td>\n",
       "      <td>0.549451</td>\n",
       "      <td>1.194938</td>\n",
       "      <td>0.001603</td>\n",
       "      <td>1.198947</td>\n",
       "    </tr>\n",
       "    <tr>\n",
       "      <th>9</th>\n",
       "      <td>(Jammie Dodgers)</td>\n",
       "      <td>(Coffee)</td>\n",
       "      <td>0.016310</td>\n",
       "      <td>0.459815</td>\n",
       "      <td>0.008646</td>\n",
       "      <td>0.530120</td>\n",
       "      <td>1.152899</td>\n",
       "      <td>0.001147</td>\n",
       "      <td>1.149624</td>\n",
       "    </tr>\n",
       "  </tbody>\n",
       "</table>\n",
       "</div>"
      ],
      "text/plain": [
       "              antecedents consequents  antecedent support  consequent support  \\\n",
       "0             (Alfajores)    (Coffee)            0.044606            0.459815   \n",
       "1              (Art Tray)    (Coffee)            0.006092            0.459815   \n",
       "2              (Bakewell)    (Coffee)            0.005895            0.459815   \n",
       "3                  (Cake)    (Coffee)            0.136766            0.459815   \n",
       "4                (Crisps)    (Coffee)            0.002162            0.459815   \n",
       "5  (Extra Salami or Feta)    (Coffee)            0.005109            0.459815   \n",
       "6              (Frittata)    (Coffee)            0.014934            0.459815   \n",
       "7               (Granola)    (Coffee)            0.002162            0.459815   \n",
       "8     (Hearty & Seasonal)    (Coffee)            0.017882            0.459815   \n",
       "9        (Jammie Dodgers)    (Coffee)            0.016310            0.459815   \n",
       "\n",
       "    support  confidence      lift  leverage  conviction  \n",
       "0  0.022991    0.515419  1.120925  0.002480    1.114745  \n",
       "1  0.004520    0.741935  1.613551  0.001719    2.093216  \n",
       "2  0.003144    0.533333  1.159886  0.000433    1.157539  \n",
       "3  0.071920    0.525862  1.143638  0.009033    1.139299  \n",
       "4  0.001376    0.636364  1.383955  0.000382    1.485508  \n",
       "5  0.003930    0.769231  1.672913  0.001581    2.340800  \n",
       "6  0.007860    0.526316  1.144624  0.000993    1.140390  \n",
       "7  0.001376    0.636364  1.383955  0.000382    1.485508  \n",
       "8  0.009825    0.549451  1.194938  0.001603    1.198947  \n",
       "9  0.008646    0.530120  1.152899  0.001147    1.149624  "
      ]
     },
     "execution_count": 18,
     "metadata": {},
     "output_type": "execute_result"
    }
   ],
   "source": [
    "rule_aft = mlxtend.frequent_patterns.association_rules(frequent_afternoon, metric = \"confidence\", min_threshold = 0.5)\n",
    "\n",
    "rule_aft[:10]"
   ]
  },
  {
   "cell_type": "markdown",
   "metadata": {},
   "source": [
    "The situation is similar as most of the product is bouth with coffee in the afternoon as well."
   ]
  },
  {
   "cell_type": "code",
   "execution_count": 19,
   "metadata": {},
   "outputs": [
    {
     "data": {
      "text/html": [
       "<div>\n",
       "<style scoped>\n",
       "    .dataframe tbody tr th:only-of-type {\n",
       "        vertical-align: middle;\n",
       "    }\n",
       "\n",
       "    .dataframe tbody tr th {\n",
       "        vertical-align: top;\n",
       "    }\n",
       "\n",
       "    .dataframe thead th {\n",
       "        text-align: right;\n",
       "    }\n",
       "</style>\n",
       "<table border=\"1\" class=\"dataframe\">\n",
       "  <thead>\n",
       "    <tr style=\"text-align: right;\">\n",
       "      <th></th>\n",
       "      <th>antecedents</th>\n",
       "      <th>consequents</th>\n",
       "      <th>antecedent support</th>\n",
       "      <th>consequent support</th>\n",
       "      <th>support</th>\n",
       "      <th>confidence</th>\n",
       "      <th>lift</th>\n",
       "      <th>leverage</th>\n",
       "      <th>conviction</th>\n",
       "    </tr>\n",
       "  </thead>\n",
       "  <tbody>\n",
       "    <tr>\n",
       "      <th>111</th>\n",
       "      <td>(Juice, Coke)</td>\n",
       "      <td>(Sandwich)</td>\n",
       "      <td>0.002555</td>\n",
       "      <td>0.115936</td>\n",
       "      <td>0.001572</td>\n",
       "      <td>0.615385</td>\n",
       "      <td>5.307953</td>\n",
       "      <td>0.001276</td>\n",
       "      <td>2.298566</td>\n",
       "    </tr>\n",
       "  </tbody>\n",
       "</table>\n",
       "</div>"
      ],
      "text/plain": [
       "       antecedents consequents  antecedent support  consequent support  \\\n",
       "111  (Juice, Coke)  (Sandwich)            0.002555            0.115936   \n",
       "\n",
       "      support  confidence      lift  leverage  conviction  \n",
       "111  0.001572    0.615385  5.307953  0.001276    2.298566  "
      ]
     },
     "execution_count": 19,
     "metadata": {},
     "output_type": "execute_result"
    }
   ],
   "source": [
    "selection_aft = rule_aft['antecedents'].apply(lambda x: 'Coke' in x and 'Juice' in x)\n",
    "rule_aft[selection_aft]"
   ]
  },
  {
   "cell_type": "markdown",
   "metadata": {},
   "source": [
    "For anyone buying Coke and Juice in the afternoon, Sandwich would be the go to recommendation"
   ]
  },
  {
   "cell_type": "code",
   "execution_count": 20,
   "metadata": {},
   "outputs": [
    {
     "data": {
      "text/html": [
       "<div>\n",
       "<style scoped>\n",
       "    .dataframe tbody tr th:only-of-type {\n",
       "        vertical-align: middle;\n",
       "    }\n",
       "\n",
       "    .dataframe tbody tr th {\n",
       "        vertical-align: top;\n",
       "    }\n",
       "\n",
       "    .dataframe thead th {\n",
       "        text-align: right;\n",
       "    }\n",
       "</style>\n",
       "<table border=\"1\" class=\"dataframe\">\n",
       "  <thead>\n",
       "    <tr style=\"text-align: right;\">\n",
       "      <th></th>\n",
       "      <th>antecedents</th>\n",
       "      <th>consequents</th>\n",
       "      <th>antecedent support</th>\n",
       "      <th>consequent support</th>\n",
       "      <th>support</th>\n",
       "      <th>confidence</th>\n",
       "      <th>lift</th>\n",
       "      <th>leverage</th>\n",
       "      <th>conviction</th>\n",
       "    </tr>\n",
       "  </thead>\n",
       "  <tbody>\n",
       "    <tr>\n",
       "      <th>29</th>\n",
       "      <td>(Toast)</td>\n",
       "      <td>(Coffee)</td>\n",
       "      <td>0.049720</td>\n",
       "      <td>0.514989</td>\n",
       "      <td>0.035827</td>\n",
       "      <td>0.720588</td>\n",
       "      <td>1.399230</td>\n",
       "      <td>0.010222</td>\n",
       "      <td>1.735829</td>\n",
       "    </tr>\n",
       "    <tr>\n",
       "      <th>66</th>\n",
       "      <td>(Toast, Medialuna)</td>\n",
       "      <td>(Bread)</td>\n",
       "      <td>0.003656</td>\n",
       "      <td>0.363149</td>\n",
       "      <td>0.001950</td>\n",
       "      <td>0.533333</td>\n",
       "      <td>1.468635</td>\n",
       "      <td>0.000622</td>\n",
       "      <td>1.364681</td>\n",
       "    </tr>\n",
       "    <tr>\n",
       "      <th>77</th>\n",
       "      <td>(Toast, Brownie)</td>\n",
       "      <td>(Tea)</td>\n",
       "      <td>0.000731</td>\n",
       "      <td>0.107482</td>\n",
       "      <td>0.000731</td>\n",
       "      <td>1.000000</td>\n",
       "      <td>9.303855</td>\n",
       "      <td>0.000653</td>\n",
       "      <td>inf</td>\n",
       "    </tr>\n",
       "    <tr>\n",
       "      <th>87</th>\n",
       "      <td>(Toast, Cake)</td>\n",
       "      <td>(Coffee)</td>\n",
       "      <td>0.002194</td>\n",
       "      <td>0.514989</td>\n",
       "      <td>0.001219</td>\n",
       "      <td>0.555556</td>\n",
       "      <td>1.078772</td>\n",
       "      <td>0.000089</td>\n",
       "      <td>1.091275</td>\n",
       "    </tr>\n",
       "    <tr>\n",
       "      <th>89</th>\n",
       "      <td>(Toast, Cake)</td>\n",
       "      <td>(Tea)</td>\n",
       "      <td>0.002194</td>\n",
       "      <td>0.107482</td>\n",
       "      <td>0.001219</td>\n",
       "      <td>0.555556</td>\n",
       "      <td>5.168808</td>\n",
       "      <td>0.000983</td>\n",
       "      <td>2.008165</td>\n",
       "    </tr>\n",
       "    <tr>\n",
       "      <th>97</th>\n",
       "      <td>(Cookies, Toast)</td>\n",
       "      <td>(Coffee)</td>\n",
       "      <td>0.002681</td>\n",
       "      <td>0.514989</td>\n",
       "      <td>0.001950</td>\n",
       "      <td>0.727273</td>\n",
       "      <td>1.412210</td>\n",
       "      <td>0.000569</td>\n",
       "      <td>1.778374</td>\n",
       "    </tr>\n",
       "    <tr>\n",
       "      <th>98</th>\n",
       "      <td>(Extra Salami or Feta, Toast)</td>\n",
       "      <td>(Coffee)</td>\n",
       "      <td>0.000731</td>\n",
       "      <td>0.514989</td>\n",
       "      <td>0.000731</td>\n",
       "      <td>1.000000</td>\n",
       "      <td>1.941789</td>\n",
       "      <td>0.000355</td>\n",
       "      <td>inf</td>\n",
       "    </tr>\n",
       "    <tr>\n",
       "      <th>116</th>\n",
       "      <td>(Toast, Juice)</td>\n",
       "      <td>(Coffee)</td>\n",
       "      <td>0.001706</td>\n",
       "      <td>0.514989</td>\n",
       "      <td>0.000975</td>\n",
       "      <td>0.571429</td>\n",
       "      <td>1.109594</td>\n",
       "      <td>0.000096</td>\n",
       "      <td>1.131692</td>\n",
       "    </tr>\n",
       "    <tr>\n",
       "      <th>125</th>\n",
       "      <td>(Toast, Medialuna)</td>\n",
       "      <td>(Coffee)</td>\n",
       "      <td>0.003656</td>\n",
       "      <td>0.514989</td>\n",
       "      <td>0.002194</td>\n",
       "      <td>0.600000</td>\n",
       "      <td>1.165073</td>\n",
       "      <td>0.000311</td>\n",
       "      <td>1.212527</td>\n",
       "    </tr>\n",
       "    <tr>\n",
       "      <th>126</th>\n",
       "      <td>(Toast, Mineral water)</td>\n",
       "      <td>(Coffee)</td>\n",
       "      <td>0.000731</td>\n",
       "      <td>0.514989</td>\n",
       "      <td>0.000731</td>\n",
       "      <td>1.000000</td>\n",
       "      <td>1.941789</td>\n",
       "      <td>0.000355</td>\n",
       "      <td>inf</td>\n",
       "    </tr>\n",
       "    <tr>\n",
       "      <th>131</th>\n",
       "      <td>(Pastry, Toast)</td>\n",
       "      <td>(Coffee)</td>\n",
       "      <td>0.002925</td>\n",
       "      <td>0.514989</td>\n",
       "      <td>0.002681</td>\n",
       "      <td>0.916667</td>\n",
       "      <td>1.779973</td>\n",
       "      <td>0.001175</td>\n",
       "      <td>5.820132</td>\n",
       "    </tr>\n",
       "    <tr>\n",
       "      <th>134</th>\n",
       "      <td>(Toast, Scone)</td>\n",
       "      <td>(Coffee)</td>\n",
       "      <td>0.000731</td>\n",
       "      <td>0.514989</td>\n",
       "      <td>0.000731</td>\n",
       "      <td>1.000000</td>\n",
       "      <td>1.941789</td>\n",
       "      <td>0.000355</td>\n",
       "      <td>inf</td>\n",
       "    </tr>\n",
       "    <tr>\n",
       "      <th>138</th>\n",
       "      <td>(Toast, Tea)</td>\n",
       "      <td>(Coffee)</td>\n",
       "      <td>0.008043</td>\n",
       "      <td>0.514989</td>\n",
       "      <td>0.004143</td>\n",
       "      <td>0.515152</td>\n",
       "      <td>1.000316</td>\n",
       "      <td>0.000001</td>\n",
       "      <td>1.000335</td>\n",
       "    </tr>\n",
       "    <tr>\n",
       "      <th>139</th>\n",
       "      <td>(Tiffin, Toast)</td>\n",
       "      <td>(Coffee)</td>\n",
       "      <td>0.001219</td>\n",
       "      <td>0.514989</td>\n",
       "      <td>0.000731</td>\n",
       "      <td>0.600000</td>\n",
       "      <td>1.165073</td>\n",
       "      <td>0.000104</td>\n",
       "      <td>1.212527</td>\n",
       "    </tr>\n",
       "  </tbody>\n",
       "</table>\n",
       "</div>"
      ],
      "text/plain": [
       "                       antecedents consequents  antecedent support  \\\n",
       "29                         (Toast)    (Coffee)            0.049720   \n",
       "66              (Toast, Medialuna)     (Bread)            0.003656   \n",
       "77                (Toast, Brownie)       (Tea)            0.000731   \n",
       "87                   (Toast, Cake)    (Coffee)            0.002194   \n",
       "89                   (Toast, Cake)       (Tea)            0.002194   \n",
       "97                (Cookies, Toast)    (Coffee)            0.002681   \n",
       "98   (Extra Salami or Feta, Toast)    (Coffee)            0.000731   \n",
       "116                 (Toast, Juice)    (Coffee)            0.001706   \n",
       "125             (Toast, Medialuna)    (Coffee)            0.003656   \n",
       "126         (Toast, Mineral water)    (Coffee)            0.000731   \n",
       "131                (Pastry, Toast)    (Coffee)            0.002925   \n",
       "134                 (Toast, Scone)    (Coffee)            0.000731   \n",
       "138                   (Toast, Tea)    (Coffee)            0.008043   \n",
       "139                (Tiffin, Toast)    (Coffee)            0.001219   \n",
       "\n",
       "     consequent support   support  confidence      lift  leverage  conviction  \n",
       "29             0.514989  0.035827    0.720588  1.399230  0.010222    1.735829  \n",
       "66             0.363149  0.001950    0.533333  1.468635  0.000622    1.364681  \n",
       "77             0.107482  0.000731    1.000000  9.303855  0.000653         inf  \n",
       "87             0.514989  0.001219    0.555556  1.078772  0.000089    1.091275  \n",
       "89             0.107482  0.001219    0.555556  5.168808  0.000983    2.008165  \n",
       "97             0.514989  0.001950    0.727273  1.412210  0.000569    1.778374  \n",
       "98             0.514989  0.000731    1.000000  1.941789  0.000355         inf  \n",
       "116            0.514989  0.000975    0.571429  1.109594  0.000096    1.131692  \n",
       "125            0.514989  0.002194    0.600000  1.165073  0.000311    1.212527  \n",
       "126            0.514989  0.000731    1.000000  1.941789  0.000355         inf  \n",
       "131            0.514989  0.002681    0.916667  1.779973  0.001175    5.820132  \n",
       "134            0.514989  0.000731    1.000000  1.941789  0.000355         inf  \n",
       "138            0.514989  0.004143    0.515152  1.000316  0.000001    1.000335  \n",
       "139            0.514989  0.000731    0.600000  1.165073  0.000104    1.212527  "
      ]
     },
     "execution_count": 20,
     "metadata": {},
     "output_type": "execute_result"
    }
   ],
   "source": [
    "selectiona = rule_morn['antecedents'].apply(lambda x: 'Toast' in x)\n",
    "selectionb = rule_aft['antecedents'].apply(lambda x: 'Toast' in x)\n",
    "#running rules for toast in both morning and afternoon database\n",
    "rule_morn[selectiona]"
   ]
  },
  {
   "cell_type": "code",
   "execution_count": 21,
   "metadata": {},
   "outputs": [
    {
     "data": {
      "text/html": [
       "<div>\n",
       "<style scoped>\n",
       "    .dataframe tbody tr th:only-of-type {\n",
       "        vertical-align: middle;\n",
       "    }\n",
       "\n",
       "    .dataframe tbody tr th {\n",
       "        vertical-align: top;\n",
       "    }\n",
       "\n",
       "    .dataframe thead th {\n",
       "        text-align: right;\n",
       "    }\n",
       "</style>\n",
       "<table border=\"1\" class=\"dataframe\">\n",
       "  <thead>\n",
       "    <tr style=\"text-align: right;\">\n",
       "      <th></th>\n",
       "      <th>antecedents</th>\n",
       "      <th>consequents</th>\n",
       "      <th>antecedent support</th>\n",
       "      <th>consequent support</th>\n",
       "      <th>support</th>\n",
       "      <th>confidence</th>\n",
       "      <th>lift</th>\n",
       "      <th>leverage</th>\n",
       "      <th>conviction</th>\n",
       "    </tr>\n",
       "  </thead>\n",
       "  <tbody>\n",
       "    <tr>\n",
       "      <th>21</th>\n",
       "      <td>(Toast)</td>\n",
       "      <td>(Coffee)</td>\n",
       "      <td>0.022401</td>\n",
       "      <td>0.459815</td>\n",
       "      <td>0.015131</td>\n",
       "      <td>0.675439</td>\n",
       "      <td>1.468935</td>\n",
       "      <td>0.004830</td>\n",
       "      <td>1.664353</td>\n",
       "    </tr>\n",
       "    <tr>\n",
       "      <th>38</th>\n",
       "      <td>(Toast, Bread)</td>\n",
       "      <td>(Coffee)</td>\n",
       "      <td>0.003341</td>\n",
       "      <td>0.459815</td>\n",
       "      <td>0.001769</td>\n",
       "      <td>0.529412</td>\n",
       "      <td>1.151357</td>\n",
       "      <td>0.000232</td>\n",
       "      <td>1.147893</td>\n",
       "    </tr>\n",
       "    <tr>\n",
       "      <th>60</th>\n",
       "      <td>(Toast, Cake)</td>\n",
       "      <td>(Coffee)</td>\n",
       "      <td>0.002358</td>\n",
       "      <td>0.459815</td>\n",
       "      <td>0.001965</td>\n",
       "      <td>0.833333</td>\n",
       "      <td>1.812322</td>\n",
       "      <td>0.000881</td>\n",
       "      <td>3.241108</td>\n",
       "    </tr>\n",
       "    <tr>\n",
       "      <th>82</th>\n",
       "      <td>(Toast, Hot chocolate)</td>\n",
       "      <td>(Coffee)</td>\n",
       "      <td>0.002751</td>\n",
       "      <td>0.459815</td>\n",
       "      <td>0.001376</td>\n",
       "      <td>0.500000</td>\n",
       "      <td>1.087393</td>\n",
       "      <td>0.000111</td>\n",
       "      <td>1.080369</td>\n",
       "    </tr>\n",
       "    <tr>\n",
       "      <th>91</th>\n",
       "      <td>(Juice, Toast)</td>\n",
       "      <td>(Coffee)</td>\n",
       "      <td>0.002948</td>\n",
       "      <td>0.459815</td>\n",
       "      <td>0.002162</td>\n",
       "      <td>0.733333</td>\n",
       "      <td>1.594843</td>\n",
       "      <td>0.000806</td>\n",
       "      <td>2.025693</td>\n",
       "    </tr>\n",
       "    <tr>\n",
       "      <th>105</th>\n",
       "      <td>(Toast, Sandwich)</td>\n",
       "      <td>(Coffee)</td>\n",
       "      <td>0.002751</td>\n",
       "      <td>0.459815</td>\n",
       "      <td>0.001376</td>\n",
       "      <td>0.500000</td>\n",
       "      <td>1.087393</td>\n",
       "      <td>0.000111</td>\n",
       "      <td>1.080369</td>\n",
       "    </tr>\n",
       "    <tr>\n",
       "      <th>108</th>\n",
       "      <td>(Toast, Spanish Brunch)</td>\n",
       "      <td>(Coffee)</td>\n",
       "      <td>0.001572</td>\n",
       "      <td>0.459815</td>\n",
       "      <td>0.001179</td>\n",
       "      <td>0.750000</td>\n",
       "      <td>1.631090</td>\n",
       "      <td>0.000456</td>\n",
       "      <td>2.160739</td>\n",
       "    </tr>\n",
       "    <tr>\n",
       "      <th>110</th>\n",
       "      <td>(Toast, Tea)</td>\n",
       "      <td>(Coffee)</td>\n",
       "      <td>0.005502</td>\n",
       "      <td>0.459815</td>\n",
       "      <td>0.002751</td>\n",
       "      <td>0.500000</td>\n",
       "      <td>1.087393</td>\n",
       "      <td>0.000221</td>\n",
       "      <td>1.080369</td>\n",
       "    </tr>\n",
       "  </tbody>\n",
       "</table>\n",
       "</div>"
      ],
      "text/plain": [
       "                 antecedents consequents  antecedent support  \\\n",
       "21                   (Toast)    (Coffee)            0.022401   \n",
       "38            (Toast, Bread)    (Coffee)            0.003341   \n",
       "60             (Toast, Cake)    (Coffee)            0.002358   \n",
       "82    (Toast, Hot chocolate)    (Coffee)            0.002751   \n",
       "91            (Juice, Toast)    (Coffee)            0.002948   \n",
       "105        (Toast, Sandwich)    (Coffee)            0.002751   \n",
       "108  (Toast, Spanish Brunch)    (Coffee)            0.001572   \n",
       "110             (Toast, Tea)    (Coffee)            0.005502   \n",
       "\n",
       "     consequent support   support  confidence      lift  leverage  conviction  \n",
       "21             0.459815  0.015131    0.675439  1.468935  0.004830    1.664353  \n",
       "38             0.459815  0.001769    0.529412  1.151357  0.000232    1.147893  \n",
       "60             0.459815  0.001965    0.833333  1.812322  0.000881    3.241108  \n",
       "82             0.459815  0.001376    0.500000  1.087393  0.000111    1.080369  \n",
       "91             0.459815  0.002162    0.733333  1.594843  0.000806    2.025693  \n",
       "105            0.459815  0.001376    0.500000  1.087393  0.000111    1.080369  \n",
       "108            0.459815  0.001179    0.750000  1.631090  0.000456    2.160739  \n",
       "110            0.459815  0.002751    0.500000  1.087393  0.000221    1.080369  "
      ]
     },
     "execution_count": 21,
     "metadata": {},
     "output_type": "execute_result"
    }
   ],
   "source": [
    "rule_aft[selectionb]"
   ]
  },
  {
   "cell_type": "markdown",
   "metadata": {},
   "source": [
    "Toast in the morning could sometimes be recommended with Tea but Coffee is the most likely and in the day as well coffee is the most common so anyone who has toast in their basket would be recommended with Coffee be it in the morning or the afternoon."
   ]
  },
  {
   "cell_type": "markdown",
   "metadata": {},
   "source": [
    "Question no. 2 Classification"
   ]
  },
  {
   "cell_type": "code",
   "execution_count": 22,
   "metadata": {},
   "outputs": [
    {
     "data": {
      "text/html": [
       "<div>\n",
       "<style scoped>\n",
       "    .dataframe tbody tr th:only-of-type {\n",
       "        vertical-align: middle;\n",
       "    }\n",
       "\n",
       "    .dataframe tbody tr th {\n",
       "        vertical-align: top;\n",
       "    }\n",
       "\n",
       "    .dataframe thead th {\n",
       "        text-align: right;\n",
       "    }\n",
       "</style>\n",
       "<table border=\"1\" class=\"dataframe\">\n",
       "  <thead>\n",
       "    <tr style=\"text-align: right;\">\n",
       "      <th></th>\n",
       "      <th>age</th>\n",
       "      <th>gender</th>\n",
       "      <th>pain</th>\n",
       "      <th>blood_pressure</th>\n",
       "      <th>cholesterol</th>\n",
       "      <th>blood_sugar</th>\n",
       "      <th>heart_rate</th>\n",
       "      <th>exercise</th>\n",
       "      <th>outcome</th>\n",
       "    </tr>\n",
       "  </thead>\n",
       "  <tbody>\n",
       "    <tr>\n",
       "      <th>0</th>\n",
       "      <td>63</td>\n",
       "      <td>1</td>\n",
       "      <td>3</td>\n",
       "      <td>145</td>\n",
       "      <td>233</td>\n",
       "      <td>1</td>\n",
       "      <td>150</td>\n",
       "      <td>0</td>\n",
       "      <td>1</td>\n",
       "    </tr>\n",
       "    <tr>\n",
       "      <th>1</th>\n",
       "      <td>37</td>\n",
       "      <td>1</td>\n",
       "      <td>2</td>\n",
       "      <td>130</td>\n",
       "      <td>250</td>\n",
       "      <td>0</td>\n",
       "      <td>187</td>\n",
       "      <td>0</td>\n",
       "      <td>1</td>\n",
       "    </tr>\n",
       "    <tr>\n",
       "      <th>2</th>\n",
       "      <td>41</td>\n",
       "      <td>0</td>\n",
       "      <td>1</td>\n",
       "      <td>130</td>\n",
       "      <td>204</td>\n",
       "      <td>0</td>\n",
       "      <td>172</td>\n",
       "      <td>0</td>\n",
       "      <td>1</td>\n",
       "    </tr>\n",
       "    <tr>\n",
       "      <th>3</th>\n",
       "      <td>56</td>\n",
       "      <td>1</td>\n",
       "      <td>1</td>\n",
       "      <td>120</td>\n",
       "      <td>236</td>\n",
       "      <td>0</td>\n",
       "      <td>178</td>\n",
       "      <td>0</td>\n",
       "      <td>1</td>\n",
       "    </tr>\n",
       "    <tr>\n",
       "      <th>4</th>\n",
       "      <td>57</td>\n",
       "      <td>0</td>\n",
       "      <td>0</td>\n",
       "      <td>120</td>\n",
       "      <td>354</td>\n",
       "      <td>0</td>\n",
       "      <td>163</td>\n",
       "      <td>1</td>\n",
       "      <td>1</td>\n",
       "    </tr>\n",
       "  </tbody>\n",
       "</table>\n",
       "</div>"
      ],
      "text/plain": [
       "   age  gender  pain  blood_pressure  cholesterol  blood_sugar  heart_rate  \\\n",
       "0   63       1     3             145          233            1         150   \n",
       "1   37       1     2             130          250            0         187   \n",
       "2   41       0     1             130          204            0         172   \n",
       "3   56       1     1             120          236            0         178   \n",
       "4   57       0     0             120          354            0         163   \n",
       "\n",
       "   exercise  outcome  \n",
       "0         0        1  \n",
       "1         0        1  \n",
       "2         0        1  \n",
       "3         0        1  \n",
       "4         1        1  "
      ]
     },
     "execution_count": 22,
     "metadata": {},
     "output_type": "execute_result"
    }
   ],
   "source": [
    "patients = pd.read_csv('patient.csv')\n",
    "\n",
    "patients.head()"
   ]
  },
  {
   "cell_type": "code",
   "execution_count": 23,
   "metadata": {},
   "outputs": [
    {
     "data": {
      "text/plain": [
       "age               0\n",
       "gender            0\n",
       "pain              0\n",
       "blood_pressure    0\n",
       "cholesterol       0\n",
       "blood_sugar       0\n",
       "heart_rate        0\n",
       "exercise          0\n",
       "outcome           0\n",
       "dtype: int64"
      ]
     },
     "execution_count": 23,
     "metadata": {},
     "output_type": "execute_result"
    }
   ],
   "source": [
    "patients.isna().sum()\n",
    "#checking for null values"
   ]
  },
  {
   "cell_type": "code",
   "execution_count": 24,
   "metadata": {},
   "outputs": [
    {
     "data": {
      "text/html": [
       "<div>\n",
       "<style scoped>\n",
       "    .dataframe tbody tr th:only-of-type {\n",
       "        vertical-align: middle;\n",
       "    }\n",
       "\n",
       "    .dataframe tbody tr th {\n",
       "        vertical-align: top;\n",
       "    }\n",
       "\n",
       "    .dataframe thead th {\n",
       "        text-align: right;\n",
       "    }\n",
       "</style>\n",
       "<table border=\"1\" class=\"dataframe\">\n",
       "  <thead>\n",
       "    <tr style=\"text-align: right;\">\n",
       "      <th></th>\n",
       "      <th>age</th>\n",
       "      <th>gender</th>\n",
       "      <th>pain</th>\n",
       "      <th>blood_pressure</th>\n",
       "      <th>cholesterol</th>\n",
       "      <th>blood_sugar</th>\n",
       "      <th>heart_rate</th>\n",
       "      <th>exercise</th>\n",
       "      <th>outcome</th>\n",
       "    </tr>\n",
       "  </thead>\n",
       "  <tbody>\n",
       "    <tr>\n",
       "      <th>count</th>\n",
       "      <td>303.000000</td>\n",
       "      <td>303.000000</td>\n",
       "      <td>303.000000</td>\n",
       "      <td>303.000000</td>\n",
       "      <td>303.000000</td>\n",
       "      <td>303.000000</td>\n",
       "      <td>303.000000</td>\n",
       "      <td>303.000000</td>\n",
       "      <td>303.000000</td>\n",
       "    </tr>\n",
       "    <tr>\n",
       "      <th>mean</th>\n",
       "      <td>54.366337</td>\n",
       "      <td>0.683168</td>\n",
       "      <td>0.966997</td>\n",
       "      <td>131.623762</td>\n",
       "      <td>246.264026</td>\n",
       "      <td>0.148515</td>\n",
       "      <td>149.646865</td>\n",
       "      <td>0.326733</td>\n",
       "      <td>0.544554</td>\n",
       "    </tr>\n",
       "    <tr>\n",
       "      <th>std</th>\n",
       "      <td>9.082101</td>\n",
       "      <td>0.466011</td>\n",
       "      <td>1.032052</td>\n",
       "      <td>17.538143</td>\n",
       "      <td>51.830751</td>\n",
       "      <td>0.356198</td>\n",
       "      <td>22.905161</td>\n",
       "      <td>0.469794</td>\n",
       "      <td>0.498835</td>\n",
       "    </tr>\n",
       "    <tr>\n",
       "      <th>min</th>\n",
       "      <td>29.000000</td>\n",
       "      <td>0.000000</td>\n",
       "      <td>0.000000</td>\n",
       "      <td>94.000000</td>\n",
       "      <td>126.000000</td>\n",
       "      <td>0.000000</td>\n",
       "      <td>71.000000</td>\n",
       "      <td>0.000000</td>\n",
       "      <td>0.000000</td>\n",
       "    </tr>\n",
       "    <tr>\n",
       "      <th>25%</th>\n",
       "      <td>47.500000</td>\n",
       "      <td>0.000000</td>\n",
       "      <td>0.000000</td>\n",
       "      <td>120.000000</td>\n",
       "      <td>211.000000</td>\n",
       "      <td>0.000000</td>\n",
       "      <td>133.500000</td>\n",
       "      <td>0.000000</td>\n",
       "      <td>0.000000</td>\n",
       "    </tr>\n",
       "    <tr>\n",
       "      <th>50%</th>\n",
       "      <td>55.000000</td>\n",
       "      <td>1.000000</td>\n",
       "      <td>1.000000</td>\n",
       "      <td>130.000000</td>\n",
       "      <td>240.000000</td>\n",
       "      <td>0.000000</td>\n",
       "      <td>153.000000</td>\n",
       "      <td>0.000000</td>\n",
       "      <td>1.000000</td>\n",
       "    </tr>\n",
       "    <tr>\n",
       "      <th>75%</th>\n",
       "      <td>61.000000</td>\n",
       "      <td>1.000000</td>\n",
       "      <td>2.000000</td>\n",
       "      <td>140.000000</td>\n",
       "      <td>274.500000</td>\n",
       "      <td>0.000000</td>\n",
       "      <td>166.000000</td>\n",
       "      <td>1.000000</td>\n",
       "      <td>1.000000</td>\n",
       "    </tr>\n",
       "    <tr>\n",
       "      <th>max</th>\n",
       "      <td>77.000000</td>\n",
       "      <td>1.000000</td>\n",
       "      <td>3.000000</td>\n",
       "      <td>200.000000</td>\n",
       "      <td>564.000000</td>\n",
       "      <td>1.000000</td>\n",
       "      <td>202.000000</td>\n",
       "      <td>1.000000</td>\n",
       "      <td>1.000000</td>\n",
       "    </tr>\n",
       "  </tbody>\n",
       "</table>\n",
       "</div>"
      ],
      "text/plain": [
       "              age      gender        pain  blood_pressure  cholesterol  \\\n",
       "count  303.000000  303.000000  303.000000      303.000000   303.000000   \n",
       "mean    54.366337    0.683168    0.966997      131.623762   246.264026   \n",
       "std      9.082101    0.466011    1.032052       17.538143    51.830751   \n",
       "min     29.000000    0.000000    0.000000       94.000000   126.000000   \n",
       "25%     47.500000    0.000000    0.000000      120.000000   211.000000   \n",
       "50%     55.000000    1.000000    1.000000      130.000000   240.000000   \n",
       "75%     61.000000    1.000000    2.000000      140.000000   274.500000   \n",
       "max     77.000000    1.000000    3.000000      200.000000   564.000000   \n",
       "\n",
       "       blood_sugar  heart_rate    exercise     outcome  \n",
       "count   303.000000  303.000000  303.000000  303.000000  \n",
       "mean      0.148515  149.646865    0.326733    0.544554  \n",
       "std       0.356198   22.905161    0.469794    0.498835  \n",
       "min       0.000000   71.000000    0.000000    0.000000  \n",
       "25%       0.000000  133.500000    0.000000    0.000000  \n",
       "50%       0.000000  153.000000    0.000000    1.000000  \n",
       "75%       0.000000  166.000000    1.000000    1.000000  \n",
       "max       1.000000  202.000000    1.000000    1.000000  "
      ]
     },
     "execution_count": 24,
     "metadata": {},
     "output_type": "execute_result"
    }
   ],
   "source": [
    "patients.describe()"
   ]
  },
  {
   "cell_type": "code",
   "execution_count": 25,
   "metadata": {},
   "outputs": [
    {
     "data": {
      "text/html": [
       "<div>\n",
       "<style scoped>\n",
       "    .dataframe tbody tr th:only-of-type {\n",
       "        vertical-align: middle;\n",
       "    }\n",
       "\n",
       "    .dataframe tbody tr th {\n",
       "        vertical-align: top;\n",
       "    }\n",
       "\n",
       "    .dataframe thead th {\n",
       "        text-align: right;\n",
       "    }\n",
       "</style>\n",
       "<table border=\"1\" class=\"dataframe\">\n",
       "  <thead>\n",
       "    <tr style=\"text-align: right;\">\n",
       "      <th></th>\n",
       "      <th>age</th>\n",
       "      <th>gender</th>\n",
       "      <th>pain</th>\n",
       "      <th>blood_pressure</th>\n",
       "      <th>cholesterol</th>\n",
       "      <th>blood_sugar</th>\n",
       "      <th>heart_rate</th>\n",
       "      <th>exercise</th>\n",
       "      <th>outcome</th>\n",
       "    </tr>\n",
       "  </thead>\n",
       "  <tbody>\n",
       "    <tr>\n",
       "      <th>age</th>\n",
       "      <td>1.000000</td>\n",
       "      <td>-0.098447</td>\n",
       "      <td>-0.068653</td>\n",
       "      <td>0.279351</td>\n",
       "      <td>0.213678</td>\n",
       "      <td>0.121308</td>\n",
       "      <td>-0.398522</td>\n",
       "      <td>0.096801</td>\n",
       "      <td>-0.225439</td>\n",
       "    </tr>\n",
       "    <tr>\n",
       "      <th>gender</th>\n",
       "      <td>-0.098447</td>\n",
       "      <td>1.000000</td>\n",
       "      <td>-0.049353</td>\n",
       "      <td>-0.056769</td>\n",
       "      <td>-0.197912</td>\n",
       "      <td>0.045032</td>\n",
       "      <td>-0.044020</td>\n",
       "      <td>0.141664</td>\n",
       "      <td>-0.280937</td>\n",
       "    </tr>\n",
       "    <tr>\n",
       "      <th>pain</th>\n",
       "      <td>-0.068653</td>\n",
       "      <td>-0.049353</td>\n",
       "      <td>1.000000</td>\n",
       "      <td>0.047608</td>\n",
       "      <td>-0.076904</td>\n",
       "      <td>0.094444</td>\n",
       "      <td>0.295762</td>\n",
       "      <td>-0.394280</td>\n",
       "      <td>0.433798</td>\n",
       "    </tr>\n",
       "    <tr>\n",
       "      <th>blood_pressure</th>\n",
       "      <td>0.279351</td>\n",
       "      <td>-0.056769</td>\n",
       "      <td>0.047608</td>\n",
       "      <td>1.000000</td>\n",
       "      <td>0.123174</td>\n",
       "      <td>0.177531</td>\n",
       "      <td>-0.046698</td>\n",
       "      <td>0.067616</td>\n",
       "      <td>-0.144931</td>\n",
       "    </tr>\n",
       "    <tr>\n",
       "      <th>cholesterol</th>\n",
       "      <td>0.213678</td>\n",
       "      <td>-0.197912</td>\n",
       "      <td>-0.076904</td>\n",
       "      <td>0.123174</td>\n",
       "      <td>1.000000</td>\n",
       "      <td>0.013294</td>\n",
       "      <td>-0.009940</td>\n",
       "      <td>0.067023</td>\n",
       "      <td>-0.085239</td>\n",
       "    </tr>\n",
       "    <tr>\n",
       "      <th>blood_sugar</th>\n",
       "      <td>0.121308</td>\n",
       "      <td>0.045032</td>\n",
       "      <td>0.094444</td>\n",
       "      <td>0.177531</td>\n",
       "      <td>0.013294</td>\n",
       "      <td>1.000000</td>\n",
       "      <td>-0.008567</td>\n",
       "      <td>0.025665</td>\n",
       "      <td>-0.028046</td>\n",
       "    </tr>\n",
       "    <tr>\n",
       "      <th>heart_rate</th>\n",
       "      <td>-0.398522</td>\n",
       "      <td>-0.044020</td>\n",
       "      <td>0.295762</td>\n",
       "      <td>-0.046698</td>\n",
       "      <td>-0.009940</td>\n",
       "      <td>-0.008567</td>\n",
       "      <td>1.000000</td>\n",
       "      <td>-0.378812</td>\n",
       "      <td>0.421741</td>\n",
       "    </tr>\n",
       "    <tr>\n",
       "      <th>exercise</th>\n",
       "      <td>0.096801</td>\n",
       "      <td>0.141664</td>\n",
       "      <td>-0.394280</td>\n",
       "      <td>0.067616</td>\n",
       "      <td>0.067023</td>\n",
       "      <td>0.025665</td>\n",
       "      <td>-0.378812</td>\n",
       "      <td>1.000000</td>\n",
       "      <td>-0.436757</td>\n",
       "    </tr>\n",
       "    <tr>\n",
       "      <th>outcome</th>\n",
       "      <td>-0.225439</td>\n",
       "      <td>-0.280937</td>\n",
       "      <td>0.433798</td>\n",
       "      <td>-0.144931</td>\n",
       "      <td>-0.085239</td>\n",
       "      <td>-0.028046</td>\n",
       "      <td>0.421741</td>\n",
       "      <td>-0.436757</td>\n",
       "      <td>1.000000</td>\n",
       "    </tr>\n",
       "  </tbody>\n",
       "</table>\n",
       "</div>"
      ],
      "text/plain": [
       "                     age    gender      pain  blood_pressure  cholesterol  \\\n",
       "age             1.000000 -0.098447 -0.068653        0.279351     0.213678   \n",
       "gender         -0.098447  1.000000 -0.049353       -0.056769    -0.197912   \n",
       "pain           -0.068653 -0.049353  1.000000        0.047608    -0.076904   \n",
       "blood_pressure  0.279351 -0.056769  0.047608        1.000000     0.123174   \n",
       "cholesterol     0.213678 -0.197912 -0.076904        0.123174     1.000000   \n",
       "blood_sugar     0.121308  0.045032  0.094444        0.177531     0.013294   \n",
       "heart_rate     -0.398522 -0.044020  0.295762       -0.046698    -0.009940   \n",
       "exercise        0.096801  0.141664 -0.394280        0.067616     0.067023   \n",
       "outcome        -0.225439 -0.280937  0.433798       -0.144931    -0.085239   \n",
       "\n",
       "                blood_sugar  heart_rate  exercise   outcome  \n",
       "age                0.121308   -0.398522  0.096801 -0.225439  \n",
       "gender             0.045032   -0.044020  0.141664 -0.280937  \n",
       "pain               0.094444    0.295762 -0.394280  0.433798  \n",
       "blood_pressure     0.177531   -0.046698  0.067616 -0.144931  \n",
       "cholesterol        0.013294   -0.009940  0.067023 -0.085239  \n",
       "blood_sugar        1.000000   -0.008567  0.025665 -0.028046  \n",
       "heart_rate        -0.008567    1.000000 -0.378812  0.421741  \n",
       "exercise           0.025665   -0.378812  1.000000 -0.436757  \n",
       "outcome           -0.028046    0.421741 -0.436757  1.000000  "
      ]
     },
     "execution_count": 25,
     "metadata": {},
     "output_type": "execute_result"
    }
   ],
   "source": [
    "patients.corr()"
   ]
  },
  {
   "cell_type": "code",
   "execution_count": 26,
   "metadata": {},
   "outputs": [
    {
     "data": {
      "text/html": [
       "<div>\n",
       "<style scoped>\n",
       "    .dataframe tbody tr th:only-of-type {\n",
       "        vertical-align: middle;\n",
       "    }\n",
       "\n",
       "    .dataframe tbody tr th {\n",
       "        vertical-align: top;\n",
       "    }\n",
       "\n",
       "    .dataframe thead th {\n",
       "        text-align: right;\n",
       "    }\n",
       "</style>\n",
       "<table border=\"1\" class=\"dataframe\">\n",
       "  <thead>\n",
       "    <tr style=\"text-align: right;\">\n",
       "      <th></th>\n",
       "      <th>age</th>\n",
       "      <th>gender</th>\n",
       "      <th>pain</th>\n",
       "      <th>blood_pressure</th>\n",
       "      <th>cholesterol</th>\n",
       "      <th>blood_sugar</th>\n",
       "      <th>heart_rate</th>\n",
       "      <th>exercise</th>\n",
       "    </tr>\n",
       "    <tr>\n",
       "      <th>outcome</th>\n",
       "      <th></th>\n",
       "      <th></th>\n",
       "      <th></th>\n",
       "      <th></th>\n",
       "      <th></th>\n",
       "      <th></th>\n",
       "      <th></th>\n",
       "      <th></th>\n",
       "    </tr>\n",
       "  </thead>\n",
       "  <tbody>\n",
       "    <tr>\n",
       "      <th>0</th>\n",
       "      <td>56.601449</td>\n",
       "      <td>0.826087</td>\n",
       "      <td>0.478261</td>\n",
       "      <td>134.398551</td>\n",
       "      <td>251.086957</td>\n",
       "      <td>0.159420</td>\n",
       "      <td>139.101449</td>\n",
       "      <td>0.550725</td>\n",
       "    </tr>\n",
       "    <tr>\n",
       "      <th>1</th>\n",
       "      <td>52.496970</td>\n",
       "      <td>0.563636</td>\n",
       "      <td>1.375758</td>\n",
       "      <td>129.303030</td>\n",
       "      <td>242.230303</td>\n",
       "      <td>0.139394</td>\n",
       "      <td>158.466667</td>\n",
       "      <td>0.139394</td>\n",
       "    </tr>\n",
       "  </tbody>\n",
       "</table>\n",
       "</div>"
      ],
      "text/plain": [
       "               age    gender      pain  blood_pressure  cholesterol  \\\n",
       "outcome                                                               \n",
       "0        56.601449  0.826087  0.478261      134.398551   251.086957   \n",
       "1        52.496970  0.563636  1.375758      129.303030   242.230303   \n",
       "\n",
       "         blood_sugar  heart_rate  exercise  \n",
       "outcome                                     \n",
       "0           0.159420  139.101449  0.550725  \n",
       "1           0.139394  158.466667  0.139394  "
      ]
     },
     "execution_count": 26,
     "metadata": {},
     "output_type": "execute_result"
    }
   ],
   "source": [
    "patients.groupby('outcome').mean()"
   ]
  },
  {
   "cell_type": "code",
   "execution_count": 27,
   "metadata": {},
   "outputs": [
    {
     "data": {
      "text/plain": [
       "<AxesSubplot:xlabel='blood_pressure', ylabel='heart_rate'>"
      ]
     },
     "execution_count": 27,
     "metadata": {},
     "output_type": "execute_result"
    },
    {
     "data": {
      "image/png": "[encoded data removed]",
      "text/plain": [
       "<Figure size 432x288 with 1 Axes>"
      ]
     },
     "metadata": {
      "needs_background": "light"
     },
     "output_type": "display_data"
    }
   ],
   "source": [
    "sns.scatterplot(x= 'blood_pressure', y= 'heart_rate', hue= 'outcome', data= patients)"
   ]
  },
  {
   "cell_type": "code",
   "execution_count": 28,
   "metadata": {},
   "outputs": [
    {
     "data": {
      "text/plain": [
       "<AxesSubplot:xlabel='outcome', ylabel='heart_rate'>"
      ]
     },
     "execution_count": 28,
     "metadata": {},
     "output_type": "execute_result"
    },
    {
     "data": {
      "image/png": "[encoded data removed]",
      "text/plain": [
       "<Figure size 432x288 with 1 Axes>"
      ]
     },
     "metadata": {
      "needs_background": "light"
     },
     "output_type": "display_data"
    }
   ],
   "source": [
    "sns.boxplot(x='outcome', y='heart_rate', data=patients)"
   ]
  },
  {
   "cell_type": "markdown",
   "metadata": {},
   "source": [
    "Running some general exploration on the dataset we can see that things like heart rate and pain has some impact on the outcome while blood pressure doesn't have the same kind of impact in heart attack from the given dataset."
   ]
  },
  {
   "cell_type": "code",
   "execution_count": 29,
   "metadata": {},
   "outputs": [],
   "source": [
    "X = patients.drop(['outcome'], axis=1)\n",
    "y= patients.outcome\n",
    "#Selecting the value for x and y and splitting them in training and test set. Random state 42 was used as general\n",
    "X_train, X_test, y_train, y_test = train_test_split(X, y, test_size=0.25, random_state = 42)"
   ]
  },
  {
   "cell_type": "code",
   "execution_count": 30,
   "metadata": {},
   "outputs": [
    {
     "name": "stdout",
     "output_type": "stream",
     "text": [
      "[[28  7]\n",
      " [ 7 34]]\n",
      "              precision    recall  f1-score   support\n",
      "\n",
      "           0       0.80      0.80      0.80        35\n",
      "           1       0.83      0.83      0.83        41\n",
      "\n",
      "    accuracy                           0.82        76\n",
      "   macro avg       0.81      0.81      0.81        76\n",
      "weighted avg       0.82      0.82      0.82        76\n",
      "\n"
     ]
    },
    {
     "name": "stderr",
     "output_type": "stream",
     "text": [
      "/opt/anaconda3/lib/python3.9/site-packages/sklearn/linear_model/_logistic.py:763: ConvergenceWarning: lbfgs failed to converge (status=1):\n",
      "STOP: TOTAL NO. of ITERATIONS REACHED LIMIT.\n",
      "\n",
      "Increase the number of iterations (max_iter) or scale the data as shown in:\n",
      "    https://scikit-learn.org/stable/modules/preprocessing.html\n",
      "Please also refer to the documentation for alternative solver options:\n",
      "    https://scikit-learn.org/stable/modules/linear_model.html#logistic-regression\n",
      "  n_iter_i = _check_optimize_result(\n"
     ]
    }
   ],
   "source": [
    "log_pat = LogisticRegression(random_state=42)\n",
    "log_pat.fit(X_train, y_train)\n",
    "pred_pat = log_pat.predict(X_test)\n",
    "\n",
    "print (confusion_matrix(y_test, pred_pat))\n",
    "print (classification_report(y_test, pred_pat))\n"
   ]
  },
  {
   "cell_type": "markdown",
   "metadata": {},
   "source": [
    "The classification without any kind of optimization on logistic regression has an accuracy of 82%. The concern is that 7 true values were classified as false which can be scary in such cases."
   ]
  },
  {
   "cell_type": "code",
   "execution_count": 31,
   "metadata": {},
   "outputs": [
    {
     "name": "stdout",
     "output_type": "stream",
     "text": [
      "[[26  9]\n",
      " [ 8 33]]\n",
      "              precision    recall  f1-score   support\n",
      "\n",
      "           0       0.76      0.74      0.75        35\n",
      "           1       0.79      0.80      0.80        41\n",
      "\n",
      "    accuracy                           0.78        76\n",
      "   macro avg       0.78      0.77      0.77        76\n",
      "weighted avg       0.78      0.78      0.78        76\n",
      "\n"
     ]
    }
   ],
   "source": [
    "tree_pat = DecisionTreeClassifier(random_state=42)\n",
    "tree_pat.fit(X_train, y_train)\n",
    "pred_tree = tree_pat.predict(X_test)\n",
    "\n",
    "print (confusion_matrix(y_test, pred_tree))\n",
    "print (classification_report(y_test, pred_tree))"
   ]
  },
  {
   "cell_type": "markdown",
   "metadata": {},
   "source": [
    "General decision tree classifier has a worse accuracy of 78% and classifies 8 of the true value as false causing more risk as compared to logistic regression."
   ]
  },
  {
   "cell_type": "code",
   "execution_count": 32,
   "metadata": {},
   "outputs": [
    {
     "name": "stdout",
     "output_type": "stream",
     "text": [
      "Depth of tree: 11\n",
      "Number of nodes in tree: 97\n"
     ]
    }
   ],
   "source": [
    "print('Depth of tree:', tree_pat.tree_.max_depth)\n",
    "print('Number of nodes in tree:', tree_pat.tree_.node_count)\n",
    "#checking the depth and nodes to optimize the tree"
   ]
  },
  {
   "cell_type": "code",
   "execution_count": 33,
   "metadata": {},
   "outputs": [
    {
     "name": "stdout",
     "output_type": "stream",
     "text": [
      "Parameters: {'class_weight': 'balanced', 'criterion': 'gini', 'max_depth': 2}\n"
     ]
    }
   ],
   "source": [
    "opt_tree_pat = DecisionTreeClassifier(random_state=42)\n",
    "\n",
    "criterion = ['gini', 'entropy']\n",
    "max_depth = [2, 4, 6, 8, 10, 11]\n",
    "weights = ['balanced', {0:0.5, 1:0.5}, {0:0.2,1:0.8}]\n",
    "\n",
    "grid = dict(criterion = criterion, max_depth = max_depth, class_weight = weights)\n",
    "grid_search = GridSearchCV(estimator= opt_tree_pat, param_grid=grid, scoring='accuracy')\n",
    "grid_result = grid_search.fit (X,y)\n",
    "\n",
    "print ('Parameters:', grid_result.best_params_)"
   ]
  },
  {
   "cell_type": "code",
   "execution_count": 34,
   "metadata": {},
   "outputs": [
    {
     "name": "stdout",
     "output_type": "stream",
     "text": [
      "[[30  5]\n",
      " [10 31]]\n",
      "              precision    recall  f1-score   support\n",
      "\n",
      "           0       0.75      0.86      0.80        35\n",
      "           1       0.86      0.76      0.81        41\n",
      "\n",
      "    accuracy                           0.80        76\n",
      "   macro avg       0.81      0.81      0.80        76\n",
      "weighted avg       0.81      0.80      0.80        76\n",
      "\n"
     ]
    }
   ],
   "source": [
    "#Using the best parameters to optimize the decision tree classifier.\n",
    "tree_pat = DecisionTreeClassifier(criterion='gini', class_weight='balanced', max_depth=2, random_state=42)\n",
    "tree_pat.fit(X_train, y_train)\n",
    "pred_tree = tree_pat.predict(X_test)\n",
    "print (confusion_matrix(y_test, pred_tree))\n",
    "print (classification_report(y_test, pred_tree))"
   ]
  },
  {
   "cell_type": "markdown",
   "metadata": {},
   "source": [
    "After the optimization, the decision tree improved from 78% to 80%."
   ]
  },
  {
   "cell_type": "code",
   "execution_count": 35,
   "metadata": {},
   "outputs": [
    {
     "name": "stdout",
     "output_type": "stream",
     "text": [
      "[[29  6]\n",
      " [ 7 34]]\n",
      "              precision    recall  f1-score   support\n",
      "\n",
      "           0       0.81      0.83      0.82        35\n",
      "           1       0.85      0.83      0.84        41\n",
      "\n",
      "    accuracy                           0.83        76\n",
      "   macro avg       0.83      0.83      0.83        76\n",
      "weighted avg       0.83      0.83      0.83        76\n",
      "\n"
     ]
    }
   ],
   "source": [
    "bag_pat = BaggingClassifier(base_estimator= opt_tree_pat, n_estimators=300, random_state=42)\n",
    "bag_pat.fit(X_train, y_train)\n",
    "pred_bag_pat = bag_pat.predict(X_test)\n",
    "\n",
    "print(confusion_matrix(y_test, pred_bag_pat))\n",
    "print(classification_report(y_test, pred_bag_pat))"
   ]
  },
  {
   "cell_type": "markdown",
   "metadata": {},
   "source": [
    "The bagging classifier improves the accuracy but it improves by minimizing false positives while the false negatives are more worrying. False negatives have not improved.\n",
    "\n",
    "Please beware that the following code took 40 seconds to run on my computer."
   ]
  },
  {
   "cell_type": "code",
   "execution_count": 36,
   "metadata": {},
   "outputs": [
    {
     "name": "stdout",
     "output_type": "stream",
     "text": [
      "Parameters: {'class_weight': 'balanced', 'criterion': 'gini', 'max_depth': 4}\n",
      "Results: 0.7722404371584699\n"
     ]
    }
   ],
   "source": [
    "grid = dict(criterion = criterion, max_depth = max_depth, class_weight = weights)\n",
    "forest_pat = RandomForestClassifier(n_estimators=300, random_state=42)\n",
    "grid_search = GridSearchCV(estimator=forest_pat, param_grid=grid, scoring='accuracy')\n",
    "grid_result = grid_search.fit(X, y)\n",
    "print ('Parameters:', grid_result.best_params_)\n",
    "print ('Results:', grid_result.best_score_)"
   ]
  },
  {
   "cell_type": "markdown",
   "metadata": {},
   "source": [
    "The best result from the random forest was at 77% which is the worst among the four classification models."
   ]
  },
  {
   "cell_type": "code",
   "execution_count": 37,
   "metadata": {},
   "outputs": [
    {
     "data": {
      "text/plain": [
       "blood_sugar       0.011466\n",
       "cholesterol       0.067525\n",
       "blood_pressure    0.076922\n",
       "gender            0.082020\n",
       "age               0.123445\n",
       "exercise          0.144409\n",
       "heart_rate        0.198181\n",
       "pain              0.296033\n",
       "dtype: float64"
      ]
     },
     "execution_count": 37,
     "metadata": {},
     "output_type": "execute_result"
    }
   ],
   "source": [
    "best_model = grid_result.best_estimator_\n",
    "\n",
    "pd.Series(data = best_model.feature_importances_, index=X_train.columns).sort_values()\n",
    "#checking the predictors with the most impact"
   ]
  },
  {
   "cell_type": "markdown",
   "metadata": {},
   "source": [
    "Age, Excercise, Heart Rate and Pain seem to be the most important predictors in this question."
   ]
  },
  {
   "cell_type": "code",
   "execution_count": 38,
   "metadata": {},
   "outputs": [
    {
     "name": "stdout",
     "output_type": "stream",
     "text": [
      "[[30  5]\n",
      " [10 31]]\n",
      "              precision    recall  f1-score   support\n",
      "\n",
      "           0       0.75      0.86      0.80        35\n",
      "           1       0.86      0.76      0.81        41\n",
      "\n",
      "    accuracy                           0.80        76\n",
      "   macro avg       0.81      0.81      0.80        76\n",
      "weighted avg       0.81      0.80      0.80        76\n",
      "\n"
     ]
    }
   ],
   "source": [
    "X = patients[['age', 'exercise', 'heart_rate', 'pain']]\n",
    "y = patients.outcome\n",
    "\n",
    "X_train, X_test, y_train, y_test = train_test_split(X, y, test_size=0.25, random_state=42)\n",
    "select_pat = DecisionTreeClassifier(random_state=42, class_weight='balanced', criterion='gini', max_depth=2)\n",
    "select_pat.fit(X_train, y_train)\n",
    "select_pred = select_pat.predict(X_test)\n",
    "\n",
    "print (confusion_matrix(y_test, select_pred))\n",
    "print (classification_report(y_test, select_pred))"
   ]
  },
  {
   "cell_type": "markdown",
   "metadata": {},
   "source": [
    "When taking only those four predictors the accuracy is 80% it improves again the false positives but the false negative has gone the worst when using only the four variables. The best accuracy was 83% for the bagging classifier."
   ]
  },
  {
   "cell_type": "markdown",
   "metadata": {},
   "source": [
    "Question No. 3 Data Science"
   ]
  },
  {
   "cell_type": "code",
   "execution_count": 39,
   "metadata": {},
   "outputs": [
    {
     "data": {
      "text/html": [
       "<div>\n",
       "<style scoped>\n",
       "    .dataframe tbody tr th:only-of-type {\n",
       "        vertical-align: middle;\n",
       "    }\n",
       "\n",
       "    .dataframe tbody tr th {\n",
       "        vertical-align: top;\n",
       "    }\n",
       "\n",
       "    .dataframe thead th {\n",
       "        text-align: right;\n",
       "    }\n",
       "</style>\n",
       "<table border=\"1\" class=\"dataframe\">\n",
       "  <thead>\n",
       "    <tr style=\"text-align: right;\">\n",
       "      <th></th>\n",
       "      <th>Area</th>\n",
       "      <th>Rooms</th>\n",
       "      <th>Yard</th>\n",
       "      <th>Floors</th>\n",
       "      <th>Owners</th>\n",
       "      <th>Year</th>\n",
       "      <th>Basement</th>\n",
       "      <th>Attic</th>\n",
       "      <th>Garage</th>\n",
       "      <th>Storage</th>\n",
       "      <th>Guest</th>\n",
       "      <th>Price</th>\n",
       "    </tr>\n",
       "  </thead>\n",
       "  <tbody>\n",
       "    <tr>\n",
       "      <th>0</th>\n",
       "      <td>75523</td>\n",
       "      <td>3</td>\n",
       "      <td>0</td>\n",
       "      <td>63</td>\n",
       "      <td>8</td>\n",
       "      <td>2005</td>\n",
       "      <td>4313</td>\n",
       "      <td>9005</td>\n",
       "      <td>956</td>\n",
       "      <td>0</td>\n",
       "      <td>7</td>\n",
       "      <td>7559081.5</td>\n",
       "    </tr>\n",
       "    <tr>\n",
       "      <th>1</th>\n",
       "      <td>80771</td>\n",
       "      <td>39</td>\n",
       "      <td>1</td>\n",
       "      <td>98</td>\n",
       "      <td>6</td>\n",
       "      <td>2015</td>\n",
       "      <td>3653</td>\n",
       "      <td>2436</td>\n",
       "      <td>128</td>\n",
       "      <td>1</td>\n",
       "      <td>2</td>\n",
       "      <td>8085989.5</td>\n",
       "    </tr>\n",
       "    <tr>\n",
       "      <th>2</th>\n",
       "      <td>55712</td>\n",
       "      <td>58</td>\n",
       "      <td>0</td>\n",
       "      <td>19</td>\n",
       "      <td>8</td>\n",
       "      <td>2021</td>\n",
       "      <td>2937</td>\n",
       "      <td>8852</td>\n",
       "      <td>135</td>\n",
       "      <td>1</td>\n",
       "      <td>9</td>\n",
       "      <td>5574642.1</td>\n",
       "    </tr>\n",
       "    <tr>\n",
       "      <th>3</th>\n",
       "      <td>32316</td>\n",
       "      <td>47</td>\n",
       "      <td>0</td>\n",
       "      <td>6</td>\n",
       "      <td>4</td>\n",
       "      <td>2012</td>\n",
       "      <td>659</td>\n",
       "      <td>7141</td>\n",
       "      <td>359</td>\n",
       "      <td>0</td>\n",
       "      <td>3</td>\n",
       "      <td>3232561.2</td>\n",
       "    </tr>\n",
       "    <tr>\n",
       "      <th>4</th>\n",
       "      <td>70429</td>\n",
       "      <td>19</td>\n",
       "      <td>1</td>\n",
       "      <td>90</td>\n",
       "      <td>7</td>\n",
       "      <td>1990</td>\n",
       "      <td>8435</td>\n",
       "      <td>2429</td>\n",
       "      <td>292</td>\n",
       "      <td>1</td>\n",
       "      <td>4</td>\n",
       "      <td>7055052.0</td>\n",
       "    </tr>\n",
       "  </tbody>\n",
       "</table>\n",
       "</div>"
      ],
      "text/plain": [
       "    Area  Rooms  Yard  Floors  Owners  Year  Basement  Attic  Garage  Storage  \\\n",
       "0  75523      3     0      63       8  2005      4313   9005     956        0   \n",
       "1  80771     39     1      98       6  2015      3653   2436     128        1   \n",
       "2  55712     58     0      19       8  2021      2937   8852     135        1   \n",
       "3  32316     47     0       6       4  2012       659   7141     359        0   \n",
       "4  70429     19     1      90       7  1990      8435   2429     292        1   \n",
       "\n",
       "   Guest      Price  \n",
       "0      7  7559081.5  \n",
       "1      2  8085989.5  \n",
       "2      9  5574642.1  \n",
       "3      3  3232561.2  \n",
       "4      4  7055052.0  "
      ]
     },
     "execution_count": 39,
     "metadata": {},
     "output_type": "execute_result"
    }
   ],
   "source": [
    "estate = pd.read_csv('House_assignment.csv', index_col=0)\n",
    "estate.head()"
   ]
  },
  {
   "cell_type": "code",
   "execution_count": 40,
   "metadata": {},
   "outputs": [
    {
     "data": {
      "text/plain": [
       "Area        0\n",
       "Rooms       0\n",
       "Yard        0\n",
       "Floors      0\n",
       "Owners      0\n",
       "Year        0\n",
       "Basement    0\n",
       "Attic       0\n",
       "Garage      0\n",
       "Storage     0\n",
       "Guest       0\n",
       "Price       0\n",
       "dtype: int64"
      ]
     },
     "execution_count": 40,
     "metadata": {},
     "output_type": "execute_result"
    }
   ],
   "source": [
    "estate.isna().sum()\n",
    "#checking for null values"
   ]
  },
  {
   "cell_type": "code",
   "execution_count": 41,
   "metadata": {},
   "outputs": [
    {
     "data": {
      "text/html": [
       "<div>\n",
       "<style scoped>\n",
       "    .dataframe tbody tr th:only-of-type {\n",
       "        vertical-align: middle;\n",
       "    }\n",
       "\n",
       "    .dataframe tbody tr th {\n",
       "        vertical-align: top;\n",
       "    }\n",
       "\n",
       "    .dataframe thead th {\n",
       "        text-align: right;\n",
       "    }\n",
       "</style>\n",
       "<table border=\"1\" class=\"dataframe\">\n",
       "  <thead>\n",
       "    <tr style=\"text-align: right;\">\n",
       "      <th></th>\n",
       "      <th>Area</th>\n",
       "      <th>Rooms</th>\n",
       "      <th>Yard</th>\n",
       "      <th>Floors</th>\n",
       "      <th>Owners</th>\n",
       "      <th>Year</th>\n",
       "      <th>Basement</th>\n",
       "      <th>Attic</th>\n",
       "      <th>Garage</th>\n",
       "      <th>Storage</th>\n",
       "      <th>Guest</th>\n",
       "      <th>Price</th>\n",
       "    </tr>\n",
       "  </thead>\n",
       "  <tbody>\n",
       "    <tr>\n",
       "      <th>count</th>\n",
       "      <td>10000.00000</td>\n",
       "      <td>10000.000000</td>\n",
       "      <td>10000.000000</td>\n",
       "      <td>10000.000000</td>\n",
       "      <td>10000.000000</td>\n",
       "      <td>10000.00000</td>\n",
       "      <td>10000.000000</td>\n",
       "      <td>10000.00000</td>\n",
       "      <td>10000.00000</td>\n",
       "      <td>10000.000000</td>\n",
       "      <td>10000.00000</td>\n",
       "      <td>1.000000e+04</td>\n",
       "    </tr>\n",
       "    <tr>\n",
       "      <th>mean</th>\n",
       "      <td>49870.13120</td>\n",
       "      <td>50.358400</td>\n",
       "      <td>0.508700</td>\n",
       "      <td>50.276300</td>\n",
       "      <td>5.521700</td>\n",
       "      <td>2005.48850</td>\n",
       "      <td>5033.103900</td>\n",
       "      <td>5028.01060</td>\n",
       "      <td>553.12120</td>\n",
       "      <td>0.503000</td>\n",
       "      <td>4.99460</td>\n",
       "      <td>4.993448e+06</td>\n",
       "    </tr>\n",
       "    <tr>\n",
       "      <th>std</th>\n",
       "      <td>28774.37535</td>\n",
       "      <td>28.816696</td>\n",
       "      <td>0.499949</td>\n",
       "      <td>28.889171</td>\n",
       "      <td>2.856667</td>\n",
       "      <td>9.30809</td>\n",
       "      <td>2876.729545</td>\n",
       "      <td>2894.33221</td>\n",
       "      <td>262.05017</td>\n",
       "      <td>0.500016</td>\n",
       "      <td>3.17641</td>\n",
       "      <td>2.877424e+06</td>\n",
       "    </tr>\n",
       "    <tr>\n",
       "      <th>min</th>\n",
       "      <td>89.00000</td>\n",
       "      <td>1.000000</td>\n",
       "      <td>0.000000</td>\n",
       "      <td>1.000000</td>\n",
       "      <td>1.000000</td>\n",
       "      <td>1990.00000</td>\n",
       "      <td>0.000000</td>\n",
       "      <td>1.00000</td>\n",
       "      <td>100.00000</td>\n",
       "      <td>0.000000</td>\n",
       "      <td>0.00000</td>\n",
       "      <td>1.031350e+04</td>\n",
       "    </tr>\n",
       "    <tr>\n",
       "      <th>25%</th>\n",
       "      <td>25098.50000</td>\n",
       "      <td>25.000000</td>\n",
       "      <td>0.000000</td>\n",
       "      <td>25.000000</td>\n",
       "      <td>3.000000</td>\n",
       "      <td>1997.00000</td>\n",
       "      <td>2559.750000</td>\n",
       "      <td>2512.00000</td>\n",
       "      <td>327.75000</td>\n",
       "      <td>0.000000</td>\n",
       "      <td>2.00000</td>\n",
       "      <td>2.516402e+06</td>\n",
       "    </tr>\n",
       "    <tr>\n",
       "      <th>50%</th>\n",
       "      <td>50105.50000</td>\n",
       "      <td>50.000000</td>\n",
       "      <td>1.000000</td>\n",
       "      <td>50.000000</td>\n",
       "      <td>5.000000</td>\n",
       "      <td>2005.50000</td>\n",
       "      <td>5092.500000</td>\n",
       "      <td>5045.00000</td>\n",
       "      <td>554.00000</td>\n",
       "      <td>1.000000</td>\n",
       "      <td>5.00000</td>\n",
       "      <td>5.016180e+06</td>\n",
       "    </tr>\n",
       "    <tr>\n",
       "      <th>75%</th>\n",
       "      <td>74609.75000</td>\n",
       "      <td>75.000000</td>\n",
       "      <td>1.000000</td>\n",
       "      <td>76.000000</td>\n",
       "      <td>8.000000</td>\n",
       "      <td>2014.00000</td>\n",
       "      <td>7511.250000</td>\n",
       "      <td>7540.50000</td>\n",
       "      <td>777.25000</td>\n",
       "      <td>1.000000</td>\n",
       "      <td>8.00000</td>\n",
       "      <td>7.469092e+06</td>\n",
       "    </tr>\n",
       "    <tr>\n",
       "      <th>max</th>\n",
       "      <td>99999.00000</td>\n",
       "      <td>100.000000</td>\n",
       "      <td>1.000000</td>\n",
       "      <td>100.000000</td>\n",
       "      <td>10.000000</td>\n",
       "      <td>2021.00000</td>\n",
       "      <td>10000.000000</td>\n",
       "      <td>10000.00000</td>\n",
       "      <td>1000.00000</td>\n",
       "      <td>1.000000</td>\n",
       "      <td>10.00000</td>\n",
       "      <td>1.000677e+07</td>\n",
       "    </tr>\n",
       "  </tbody>\n",
       "</table>\n",
       "</div>"
      ],
      "text/plain": [
       "              Area         Rooms          Yard        Floors        Owners  \\\n",
       "count  10000.00000  10000.000000  10000.000000  10000.000000  10000.000000   \n",
       "mean   49870.13120     50.358400      0.508700     50.276300      5.521700   \n",
       "std    28774.37535     28.816696      0.499949     28.889171      2.856667   \n",
       "min       89.00000      1.000000      0.000000      1.000000      1.000000   \n",
       "25%    25098.50000     25.000000      0.000000     25.000000      3.000000   \n",
       "50%    50105.50000     50.000000      1.000000     50.000000      5.000000   \n",
       "75%    74609.75000     75.000000      1.000000     76.000000      8.000000   \n",
       "max    99999.00000    100.000000      1.000000    100.000000     10.000000   \n",
       "\n",
       "              Year      Basement        Attic       Garage       Storage  \\\n",
       "count  10000.00000  10000.000000  10000.00000  10000.00000  10000.000000   \n",
       "mean    2005.48850   5033.103900   5028.01060    553.12120      0.503000   \n",
       "std        9.30809   2876.729545   2894.33221    262.05017      0.500016   \n",
       "min     1990.00000      0.000000      1.00000    100.00000      0.000000   \n",
       "25%     1997.00000   2559.750000   2512.00000    327.75000      0.000000   \n",
       "50%     2005.50000   5092.500000   5045.00000    554.00000      1.000000   \n",
       "75%     2014.00000   7511.250000   7540.50000    777.25000      1.000000   \n",
       "max     2021.00000  10000.000000  10000.00000   1000.00000      1.000000   \n",
       "\n",
       "             Guest         Price  \n",
       "count  10000.00000  1.000000e+04  \n",
       "mean       4.99460  4.993448e+06  \n",
       "std        3.17641  2.877424e+06  \n",
       "min        0.00000  1.031350e+04  \n",
       "25%        2.00000  2.516402e+06  \n",
       "50%        5.00000  5.016180e+06  \n",
       "75%        8.00000  7.469092e+06  \n",
       "max       10.00000  1.000677e+07  "
      ]
     },
     "execution_count": 41,
     "metadata": {},
     "output_type": "execute_result"
    }
   ],
   "source": [
    "estate.describe()"
   ]
  },
  {
   "cell_type": "code",
   "execution_count": 42,
   "metadata": {},
   "outputs": [
    {
     "data": {
      "text/html": [
       "<div>\n",
       "<style scoped>\n",
       "    .dataframe tbody tr th:only-of-type {\n",
       "        vertical-align: middle;\n",
       "    }\n",
       "\n",
       "    .dataframe tbody tr th {\n",
       "        vertical-align: top;\n",
       "    }\n",
       "\n",
       "    .dataframe thead th {\n",
       "        text-align: right;\n",
       "    }\n",
       "</style>\n",
       "<table border=\"1\" class=\"dataframe\">\n",
       "  <thead>\n",
       "    <tr style=\"text-align: right;\">\n",
       "      <th></th>\n",
       "      <th>Area</th>\n",
       "      <th>Rooms</th>\n",
       "      <th>Yard</th>\n",
       "      <th>Floors</th>\n",
       "      <th>Owners</th>\n",
       "      <th>Year</th>\n",
       "      <th>Basement</th>\n",
       "      <th>Attic</th>\n",
       "      <th>Garage</th>\n",
       "      <th>Storage</th>\n",
       "      <th>Guest</th>\n",
       "      <th>Price</th>\n",
       "    </tr>\n",
       "  </thead>\n",
       "  <tbody>\n",
       "    <tr>\n",
       "      <th>Area</th>\n",
       "      <td>1.000000</td>\n",
       "      <td>0.009573</td>\n",
       "      <td>-0.006650</td>\n",
       "      <td>0.001109</td>\n",
       "      <td>0.016619</td>\n",
       "      <td>-0.007207</td>\n",
       "      <td>-0.003960</td>\n",
       "      <td>-0.000588</td>\n",
       "      <td>-0.017246</td>\n",
       "      <td>-0.003486</td>\n",
       "      <td>-0.000623</td>\n",
       "      <td>0.999999</td>\n",
       "    </tr>\n",
       "    <tr>\n",
       "      <th>Rooms</th>\n",
       "      <td>0.009573</td>\n",
       "      <td>1.000000</td>\n",
       "      <td>-0.011240</td>\n",
       "      <td>0.022244</td>\n",
       "      <td>0.016766</td>\n",
       "      <td>0.003978</td>\n",
       "      <td>-0.013990</td>\n",
       "      <td>0.012061</td>\n",
       "      <td>0.023188</td>\n",
       "      <td>-0.004760</td>\n",
       "      <td>-0.015529</td>\n",
       "      <td>0.009591</td>\n",
       "    </tr>\n",
       "    <tr>\n",
       "      <th>Yard</th>\n",
       "      <td>-0.006650</td>\n",
       "      <td>-0.011240</td>\n",
       "      <td>1.000000</td>\n",
       "      <td>-0.000883</td>\n",
       "      <td>0.004279</td>\n",
       "      <td>0.002214</td>\n",
       "      <td>-0.008558</td>\n",
       "      <td>-0.003085</td>\n",
       "      <td>-0.004626</td>\n",
       "      <td>-0.009506</td>\n",
       "      <td>-0.007276</td>\n",
       "      <td>-0.006119</td>\n",
       "    </tr>\n",
       "    <tr>\n",
       "      <th>Floors</th>\n",
       "      <td>0.001109</td>\n",
       "      <td>0.022244</td>\n",
       "      <td>-0.000883</td>\n",
       "      <td>1.000000</td>\n",
       "      <td>0.002463</td>\n",
       "      <td>0.005022</td>\n",
       "      <td>0.006228</td>\n",
       "      <td>-0.000270</td>\n",
       "      <td>0.011303</td>\n",
       "      <td>0.003616</td>\n",
       "      <td>-0.021155</td>\n",
       "      <td>0.001654</td>\n",
       "    </tr>\n",
       "    <tr>\n",
       "      <th>Owners</th>\n",
       "      <td>0.016619</td>\n",
       "      <td>0.016766</td>\n",
       "      <td>0.004279</td>\n",
       "      <td>0.002463</td>\n",
       "      <td>1.000000</td>\n",
       "      <td>0.006858</td>\n",
       "      <td>-0.000862</td>\n",
       "      <td>0.000719</td>\n",
       "      <td>0.020268</td>\n",
       "      <td>0.031707</td>\n",
       "      <td>-0.006082</td>\n",
       "      <td>0.016619</td>\n",
       "    </tr>\n",
       "    <tr>\n",
       "      <th>Year</th>\n",
       "      <td>-0.007207</td>\n",
       "      <td>0.003978</td>\n",
       "      <td>0.002214</td>\n",
       "      <td>0.005022</td>\n",
       "      <td>0.006858</td>\n",
       "      <td>1.000000</td>\n",
       "      <td>-0.005506</td>\n",
       "      <td>0.013773</td>\n",
       "      <td>0.005687</td>\n",
       "      <td>-0.007868</td>\n",
       "      <td>-0.005431</td>\n",
       "      <td>-0.007210</td>\n",
       "    </tr>\n",
       "    <tr>\n",
       "      <th>Basement</th>\n",
       "      <td>-0.003960</td>\n",
       "      <td>-0.013990</td>\n",
       "      <td>-0.008558</td>\n",
       "      <td>0.006228</td>\n",
       "      <td>-0.000862</td>\n",
       "      <td>-0.005506</td>\n",
       "      <td>1.000000</td>\n",
       "      <td>-0.003180</td>\n",
       "      <td>0.000117</td>\n",
       "      <td>-0.010815</td>\n",
       "      <td>-0.020732</td>\n",
       "      <td>-0.003967</td>\n",
       "    </tr>\n",
       "    <tr>\n",
       "      <th>Attic</th>\n",
       "      <td>-0.000588</td>\n",
       "      <td>0.012061</td>\n",
       "      <td>-0.003085</td>\n",
       "      <td>-0.000270</td>\n",
       "      <td>0.000719</td>\n",
       "      <td>0.013773</td>\n",
       "      <td>-0.003180</td>\n",
       "      <td>1.000000</td>\n",
       "      <td>-0.000611</td>\n",
       "      <td>-0.000789</td>\n",
       "      <td>-0.011995</td>\n",
       "      <td>-0.000600</td>\n",
       "    </tr>\n",
       "    <tr>\n",
       "      <th>Garage</th>\n",
       "      <td>-0.017246</td>\n",
       "      <td>0.023188</td>\n",
       "      <td>-0.004626</td>\n",
       "      <td>0.011303</td>\n",
       "      <td>0.020268</td>\n",
       "      <td>0.005687</td>\n",
       "      <td>0.000117</td>\n",
       "      <td>-0.000611</td>\n",
       "      <td>1.000000</td>\n",
       "      <td>0.032863</td>\n",
       "      <td>-0.017316</td>\n",
       "      <td>-0.017229</td>\n",
       "    </tr>\n",
       "    <tr>\n",
       "      <th>Storage</th>\n",
       "      <td>-0.003486</td>\n",
       "      <td>-0.004760</td>\n",
       "      <td>-0.009506</td>\n",
       "      <td>0.003616</td>\n",
       "      <td>0.031707</td>\n",
       "      <td>-0.007868</td>\n",
       "      <td>-0.010815</td>\n",
       "      <td>-0.000789</td>\n",
       "      <td>0.032863</td>\n",
       "      <td>1.000000</td>\n",
       "      <td>0.015186</td>\n",
       "      <td>-0.003485</td>\n",
       "    </tr>\n",
       "    <tr>\n",
       "      <th>Guest</th>\n",
       "      <td>-0.000623</td>\n",
       "      <td>-0.015529</td>\n",
       "      <td>-0.007276</td>\n",
       "      <td>-0.021155</td>\n",
       "      <td>-0.006082</td>\n",
       "      <td>-0.005431</td>\n",
       "      <td>-0.020732</td>\n",
       "      <td>-0.011995</td>\n",
       "      <td>-0.017316</td>\n",
       "      <td>0.015186</td>\n",
       "      <td>1.000000</td>\n",
       "      <td>-0.000644</td>\n",
       "    </tr>\n",
       "    <tr>\n",
       "      <th>Price</th>\n",
       "      <td>0.999999</td>\n",
       "      <td>0.009591</td>\n",
       "      <td>-0.006119</td>\n",
       "      <td>0.001654</td>\n",
       "      <td>0.016619</td>\n",
       "      <td>-0.007210</td>\n",
       "      <td>-0.003967</td>\n",
       "      <td>-0.000600</td>\n",
       "      <td>-0.017229</td>\n",
       "      <td>-0.003485</td>\n",
       "      <td>-0.000644</td>\n",
       "      <td>1.000000</td>\n",
       "    </tr>\n",
       "  </tbody>\n",
       "</table>\n",
       "</div>"
      ],
      "text/plain": [
       "              Area     Rooms      Yard    Floors    Owners      Year  \\\n",
       "Area      1.000000  0.009573 -0.006650  0.001109  0.016619 -0.007207   \n",
       "Rooms     0.009573  1.000000 -0.011240  0.022244  0.016766  0.003978   \n",
       "Yard     -0.006650 -0.011240  1.000000 -0.000883  0.004279  0.002214   \n",
       "Floors    0.001109  0.022244 -0.000883  1.000000  0.002463  0.005022   \n",
       "Owners    0.016619  0.016766  0.004279  0.002463  1.000000  0.006858   \n",
       "Year     -0.007207  0.003978  0.002214  0.005022  0.006858  1.000000   \n",
       "Basement -0.003960 -0.013990 -0.008558  0.006228 -0.000862 -0.005506   \n",
       "Attic    -0.000588  0.012061 -0.003085 -0.000270  0.000719  0.013773   \n",
       "Garage   -0.017246  0.023188 -0.004626  0.011303  0.020268  0.005687   \n",
       "Storage  -0.003486 -0.004760 -0.009506  0.003616  0.031707 -0.007868   \n",
       "Guest    -0.000623 -0.015529 -0.007276 -0.021155 -0.006082 -0.005431   \n",
       "Price     0.999999  0.009591 -0.006119  0.001654  0.016619 -0.007210   \n",
       "\n",
       "          Basement     Attic    Garage   Storage     Guest     Price  \n",
       "Area     -0.003960 -0.000588 -0.017246 -0.003486 -0.000623  0.999999  \n",
       "Rooms    -0.013990  0.012061  0.023188 -0.004760 -0.015529  0.009591  \n",
       "Yard     -0.008558 -0.003085 -0.004626 -0.009506 -0.007276 -0.006119  \n",
       "Floors    0.006228 -0.000270  0.011303  0.003616 -0.021155  0.001654  \n",
       "Owners   -0.000862  0.000719  0.020268  0.031707 -0.006082  0.016619  \n",
       "Year     -0.005506  0.013773  0.005687 -0.007868 -0.005431 -0.007210  \n",
       "Basement  1.000000 -0.003180  0.000117 -0.010815 -0.020732 -0.003967  \n",
       "Attic    -0.003180  1.000000 -0.000611 -0.000789 -0.011995 -0.000600  \n",
       "Garage    0.000117 -0.000611  1.000000  0.032863 -0.017316 -0.017229  \n",
       "Storage  -0.010815 -0.000789  0.032863  1.000000  0.015186 -0.003485  \n",
       "Guest    -0.020732 -0.011995 -0.017316  0.015186  1.000000 -0.000644  \n",
       "Price    -0.003967 -0.000600 -0.017229 -0.003485 -0.000644  1.000000  "
      ]
     },
     "execution_count": 42,
     "metadata": {},
     "output_type": "execute_result"
    }
   ],
   "source": [
    "estate.corr()"
   ]
  },
  {
   "cell_type": "code",
   "execution_count": 43,
   "metadata": {},
   "outputs": [
    {
     "data": {
      "text/plain": [
       "<AxesSubplot:>"
      ]
     },
     "execution_count": 43,
     "metadata": {},
     "output_type": "execute_result"
    },
    {
     "data": {
      "image/png": "[encoded data removed]",
      "text/plain": [
       "<Figure size 432x288 with 2 Axes>"
      ]
     },
     "metadata": {
      "needs_background": "light"
     },
     "output_type": "display_data"
    }
   ],
   "source": [
    "sns.heatmap (data=estate.corr())\n",
    "#the area and price are very closely correlated in these dataset"
   ]
  },
  {
   "cell_type": "code",
   "execution_count": 44,
   "metadata": {},
   "outputs": [
    {
     "data": {
      "text/plain": [
       "<AxesSubplot:xlabel='Area', ylabel='Price'>"
      ]
     },
     "execution_count": 44,
     "metadata": {},
     "output_type": "execute_result"
    },
    {
     "data": {
      "image/png": "[encoded data removed]",
      "text/plain": [
       "<Figure size 432x288 with 1 Axes>"
      ]
     },
     "metadata": {
      "needs_background": "light"
     },
     "output_type": "display_data"
    }
   ],
   "source": [
    "sns.lineplot (x='Area', y='Price', data=estate)"
   ]
  },
  {
   "cell_type": "markdown",
   "metadata": {},
   "source": [
    "A very linear graph is generated by the line plot between price and area."
   ]
  },
  {
   "cell_type": "code",
   "execution_count": 45,
   "metadata": {},
   "outputs": [],
   "source": [
    "X = estate.drop('Price', axis=1)\n",
    "y = estate['Price']\n",
    "\n",
    "#creating the x and y value for the dataset and creating a test and training set from them\n",
    "\n",
    "X_train, X_test, y_train, y_test = train_test_split(X, y, test_size=0.25, random_state=42)\n",
    "\n",
    "estate_tree = DecisionTreeRegressor(random_state=42)\n",
    "\n",
    "estate_tree_fit = estate_tree.fit(X_train, y_train)\n"
   ]
  },
  {
   "cell_type": "code",
   "execution_count": 46,
   "metadata": {},
   "outputs": [
    {
     "name": "stdout",
     "output_type": "stream",
     "text": [
      "The unoptimized tree regessor has an MSE of 31188128.111196216\n"
     ]
    }
   ],
   "source": [
    "y_pred = estate_tree_fit.predict(X_test)\n",
    "mse_tree = mse(y_test, y_pred)\n",
    "\n",
    "print (\"The unoptimized tree regessor has an MSE of\", mse_tree)"
   ]
  },
  {
   "cell_type": "code",
   "execution_count": 47,
   "metadata": {},
   "outputs": [
    {
     "name": "stdout",
     "output_type": "stream",
     "text": [
      "Depth of tree: 19\n",
      "Number of nodes in tree: 14999\n"
     ]
    }
   ],
   "source": [
    "print('Depth of tree:', estate_tree.tree_.max_depth)\n",
    "print('Number of nodes in tree:', estate_tree.tree_.node_count)"
   ]
  },
  {
   "cell_type": "code",
   "execution_count": 48,
   "metadata": {},
   "outputs": [
    {
     "name": "stdout",
     "output_type": "stream",
     "text": [
      "Best Param: {'max_depth': 12, 'min_samples_leaf': 5}\n"
     ]
    }
   ],
   "source": [
    "param_dt = {'max_depth': [3, 6, 9, 12, 15, 18], 'min_samples_leaf': [5, 10, 15, 20, 25]}\n",
    "grid_dt = GridSearchCV(estimator=estate_tree, param_grid=param_dt, scoring='neg_mean_squared_error')\n",
    "grid_result = grid_dt.fit(X_train, y_train)\n",
    "print ('Best Param:', grid_result.best_params_ )"
   ]
  },
  {
   "cell_type": "markdown",
   "metadata": {},
   "source": [
    "The parameters were optimized for the decision tree regressor to check if it can improve the mean squared error"
   ]
  },
  {
   "cell_type": "code",
   "execution_count": 49,
   "metadata": {},
   "outputs": [
    {
     "name": "stdout",
     "output_type": "stream",
     "text": [
      "MSE for optimized tree: 26528187.961148534\n"
     ]
    }
   ],
   "source": [
    "estate_tree_2 = DecisionTreeRegressor(max_depth=12, min_samples_leaf=5, random_state=42)\n",
    "estate_tree_fit_2 = estate_tree_2.fit(X_train, y_train)\n",
    "y_pred = estate_tree_fit_2.predict(X_test)\n",
    "mse_opt_tree = mse (y_test, y_pred)\n",
    "\n",
    "print ('MSE for optimized tree:', mse_opt_tree)"
   ]
  },
  {
   "cell_type": "markdown",
   "metadata": {},
   "source": [
    "The mean squared error improved by almost 15% in this case from the unoptimized set."
   ]
  },
  {
   "cell_type": "code",
   "execution_count": 50,
   "metadata": {},
   "outputs": [
    {
     "name": "stdout",
     "output_type": "stream",
     "text": [
      "Linear Regression MSE: 5818383.243235399\n"
     ]
    }
   ],
   "source": [
    "estate_lin = LinearRegression()\n",
    "estate_lin_fit = estate_lin.fit(X_train, y_train)\n",
    "y_pred = estate_lin_fit.predict(X_test)\n",
    "mse_lin = mse(y_test, y_pred)\n",
    "print (\"Linear Regression MSE:\", mse_lin)"
   ]
  },
  {
   "cell_type": "markdown",
   "metadata": {},
   "source": [
    "Linear regression sees almost 80% better results as compared to the optimized decision tree regression."
   ]
  },
  {
   "cell_type": "code",
   "execution_count": 51,
   "metadata": {},
   "outputs": [
    {
     "name": "stdout",
     "output_type": "stream",
     "text": [
      "MSE of Random Forest: 15920102.67395532\n"
     ]
    }
   ],
   "source": [
    "estate_rand = RandomForestRegressor(n_estimators=200, random_state=42)\n",
    "estate_rand.fit(X_train, y_train)\n",
    "y_pred_rand = estate_rand.predict(X_test)\n",
    "mse_rand = mse(y_test, y_pred_rand)\n",
    "print ('MSE of Random Forest:',mse_rand )"
   ]
  },
  {
   "cell_type": "markdown",
   "metadata": {},
   "source": [
    "The unoptimized random forest improves the unoptimized decision tree by almost halving the mean squared error.\n",
    "\n",
    "Please beware that the code below took around 9 minutes to run on my machine. These are the optimizer for the random forest regressor."
   ]
  },
  {
   "cell_type": "code",
   "execution_count": 52,
   "metadata": {},
   "outputs": [
    {
     "name": "stdout",
     "output_type": "stream",
     "text": [
      "Best result is obtained using {'max_depth': 12, 'min_samples_leaf': 5}\n"
     ]
    }
   ],
   "source": [
    "grid = dict(max_depth = [3, 6, 9, 12, 15, 18], min_samples_leaf = [1, 5, 10, 15, 20])\n",
    "\n",
    "forest_est = RandomForestRegressor(n_estimators = 200, random_state = 42)\n",
    "\n",
    "grid_search = GridSearchCV(estimator=estate_rand, param_grid=grid, scoring='neg_mean_squared_error')\n",
    "\n",
    "grid_result = grid_search.fit(X, y)\n",
    "\n",
    "# Print out the best result\n",
    "print(\"Best result is obtained using\", grid_result.best_params_)"
   ]
  },
  {
   "cell_type": "code",
   "execution_count": 53,
   "metadata": {},
   "outputs": [
    {
     "name": "stdout",
     "output_type": "stream",
     "text": [
      "The MSE for the optimized random forest is 15657818.034145297\n"
     ]
    }
   ],
   "source": [
    "estate_opt_rand = RandomForestRegressor(n_estimators=200, random_state=42, max_depth=12, min_samples_leaf=5)\n",
    "\n",
    "estate_opt_rand.fit(X_train, y_train)\n",
    "y_pred_opt_rand = estate_opt_rand.predict(X_test)\n",
    "mse_opt_rand = mse(y_test, y_pred_opt_rand)\n",
    "print ('The MSE for the optimized random forest is', mse_opt_rand)"
   ]
  },
  {
   "cell_type": "markdown",
   "metadata": {},
   "source": [
    "There has been a small improvement with the optimized random forest which is 1 percent improvement compared to the original random forest. So, linear regression is the best way method in the dataset."
   ]
  }
 ],
 "metadata": {
  "interpreter": {
   "hash": "40d3a090f54c6569ab1632332b64b2c03c39dcf918b08424e98f38b5ae0af88f"
  },
  "kernelspec": {
   "display_name": "Python 3.9.7 ('base')",
   "language": "python",
   "name": "python3"
  },
  "language_info": {
   "codemirror_mode": {
    "name": "ipython",
    "version": 3
   },
   "file_extension": ".py",
   "mimetype": "text/x-python",
   "name": "python",
   "nbconvert_exporter": "python",
   "pygments_lexer": "ipython3",
   "version": "3.9.7"
  },
  "orig_nbformat": 4
 },
 "nbformat": 4,
 "nbformat_minor": 2
}
